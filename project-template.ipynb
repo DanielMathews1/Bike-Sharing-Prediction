{
 "cells": [
  {
   "cell_type": "markdown",
   "metadata": {},
   "source": [
    "# Predict Bike Sharing Demand with AutoGluon Template"
   ]
  },
  {
   "cell_type": "markdown",
   "metadata": {},
   "source": [
    "### Install packages"
   ]
  },
  {
   "cell_type": "code",
   "execution_count": null,
   "metadata": {
    "scrolled": true,
    "tags": []
   },
   "outputs": [],
   "source": [
    "!pip install -U pip\n",
    "!pip install -U setuptools wheel\n",
    "!pip install -U \"mxnet<2.0.0\" bokeh==2.0.1\n",
    "!pip install autogluon --no-cache-dir\n",
    "!pip install -U kaggle\n",
    "# Without --no-cache-dir, smaller aws instances may have trouble installing"
   ]
  },
  {
   "cell_type": "markdown",
   "metadata": {},
   "source": [
    "### Setup Kaggle API Key"
   ]
  },
  {
   "cell_type": "code",
   "execution_count": null,
   "metadata": {
    "tags": []
   },
   "outputs": [],
   "source": [
    "# create the .kaggle directory and an empty kaggle.json file\n",
    "!mkdir -p /root/.kaggle\n",
    "!touch /root/.kaggle/kaggle.json\n",
    "!chmod 600 /root/.kaggle/kaggle.json"
   ]
  },
  {
   "cell_type": "code",
   "execution_count": null,
   "metadata": {
    "tags": []
   },
   "outputs": [],
   "source": [
    "# Fill in your user name and key from creating the kaggle account and API token file\n",
    "import json\n",
    "kaggle_username = \"danielpmathews\"\n",
    "kaggle_key = \"6b4d5550ca29d4bf26a121eacdeeb293\"\n",
    "\n",
    "# Save API token the kaggle.json file\n",
    "with open(\"/root/.kaggle/kaggle.json\", \"w\") as f:\n",
    "    f.write(json.dumps({\"username\": kaggle_username, \"key\": kaggle_key}))"
   ]
  },
  {
   "cell_type": "markdown",
   "metadata": {
    "tags": []
   },
   "source": [
    "### Download and explore dataset"
   ]
  },
  {
   "cell_type": "code",
   "execution_count": null,
   "metadata": {
    "tags": []
   },
   "outputs": [],
   "source": [
    "# Download the dataset, it will be in a .zip file so you'll need to unzip it as well.\n",
    "!kaggle competitions download -c bike-sharing-demand\n",
    "# If you already downloaded it you can use the -o command to overwrite the file\n",
    "!unzip -o bike-sharing-demand.zip"
   ]
  },
  {
   "cell_type": "code",
   "execution_count": null,
   "metadata": {
    "tags": []
   },
   "outputs": [],
   "source": [
    "import pandas as pd\n",
    "from autogluon.tabular import TabularPredictor"
   ]
  },
  {
   "cell_type": "code",
   "execution_count": null,
   "metadata": {
    "tags": []
   },
   "outputs": [],
   "source": [
    "train = pd.read_csv('train.csv',parse_dates=['datetime'])\n",
    "test = pd.read_csv('test.csv',parse_dates=['datetime'])\n",
    "submission = pd.read_csv('sampleSubmission.csv',parse_dates=['datetime'])"
   ]
  },
  {
   "cell_type": "code",
   "execution_count": null,
   "metadata": {
    "tags": []
   },
   "outputs": [],
   "source": [
    "train.head(1)"
   ]
  },
  {
   "cell_type": "code",
   "execution_count": null,
   "metadata": {
    "tags": []
   },
   "outputs": [],
   "source": [
    "train.dtypes"
   ]
  },
  {
   "cell_type": "code",
   "execution_count": null,
   "metadata": {
    "tags": []
   },
   "outputs": [],
   "source": [
    "test.head(1)"
   ]
  },
  {
   "cell_type": "code",
   "execution_count": null,
   "metadata": {
    "tags": []
   },
   "outputs": [],
   "source": [
    "submission.head(1)"
   ]
  },
  {
   "cell_type": "markdown",
   "metadata": {},
   "source": [
    "## Step 3: Train a model using AutoGluon’s Tabular Prediction"
   ]
  },
  {
   "cell_type": "markdown",
   "metadata": {},
   "source": [
    "Requirements:\n",
    "* We are prediting `count`, so it is the label we are setting.\n",
    "* Ignore `casual` and `registered` columns as they are also not present in the test dataset. \n",
    "* Use the `root_mean_squared_error` as the metric to use for evaluation.\n",
    "* Set a time limit of 10 minutes (600 seconds).\n",
    "* Use the preset `best_quality` to focus on creating the best model."
   ]
  },
  {
   "cell_type": "code",
   "execution_count": null,
   "metadata": {
    "scrolled": true,
    "tags": []
   },
   "outputs": [],
   "source": [
    "predictor = TabularPredictor(label='count',eval_metric='root_mean_squared_error',learner_kwargs={'ignored_columns': ['casual','registered']}).fit(train,presets='best_quality',time_limit=600)"
   ]
  },
  {
   "cell_type": "markdown",
   "metadata": {},
   "source": [
    "### Review AutoGluon's training run with ranking of models that did the best."
   ]
  },
  {
   "cell_type": "code",
   "execution_count": null,
   "metadata": {
    "tags": []
   },
   "outputs": [],
   "source": [
    "predictor = TabularPredictor.load('AutogluonModels/ag-20240625_234407')"
   ]
  },
  {
   "cell_type": "code",
   "execution_count": 16,
   "metadata": {
    "scrolled": true,
    "tags": []
   },
   "outputs": [
    {
     "name": "stdout",
     "output_type": "stream",
     "text": [
      "*** Summary of fit() ***\n",
      "Estimated performance of each model:\n",
      "                     model   score_val              eval_metric  pred_time_val    fit_time  pred_time_val_marginal  fit_time_marginal  stack_level  can_infer  fit_order\n",
      "0      WeightedEnsemble_L3  -53.133772  root_mean_squared_error      20.601956  390.345274                0.000753           0.053419            3       True         12\n",
      "1   RandomForestMSE_BAG_L2  -53.470050  root_mean_squared_error      16.719526  296.650828                0.882535          44.197278            2       True         11\n",
      "2          LightGBM_BAG_L2  -54.968202  root_mean_squared_error      16.169971  283.531779                0.332980          31.078229            2       True         10\n",
      "3        LightGBMXT_BAG_L2  -60.551453  root_mean_squared_error      19.385688  315.016348                3.548697          62.562798            2       True          9\n",
      "4    KNeighborsDist_BAG_L1  -84.125061  root_mean_squared_error       0.071029    0.038803                0.071029           0.038803            1       True          2\n",
      "5      WeightedEnsemble_L2  -84.125061  root_mean_squared_error       0.071837    0.066654                0.000808           0.027852            2       True          8\n",
      "6    KNeighborsUnif_BAG_L1 -101.546199  root_mean_squared_error       0.055652    0.047745                0.055652           0.047745            1       True          1\n",
      "7   RandomForestMSE_BAG_L1 -116.548359  root_mean_squared_error       0.637585   16.873935                0.637585          16.873935            1       True          5\n",
      "8     ExtraTreesMSE_BAG_L1 -124.600676  root_mean_squared_error       0.631506    8.947803                0.631506           8.947803            1       True          7\n",
      "9          CatBoost_BAG_L1 -130.968376  root_mean_squared_error       0.263443  111.391216                0.263443         111.391216            1       True          6\n",
      "10         LightGBM_BAG_L1 -131.054162  root_mean_squared_error       1.517825   35.265491                1.517825          35.265491            1       True          4\n",
      "11       LightGBMXT_BAG_L1 -131.460909  root_mean_squared_error      12.659951   79.888557               12.659951          79.888557            1       True          3\n",
      "Number of models trained: 12\n",
      "Types of models trained:\n",
      "{'StackerEnsembleModel_RF', 'WeightedEnsembleModel', 'StackerEnsembleModel_LGB', 'StackerEnsembleModel_CatBoost', 'StackerEnsembleModel_XT', 'StackerEnsembleModel_KNN'}\n",
      "Bagging used: True  (with 8 folds)\n",
      "Multi-layer stack-ensembling used: True  (with 3 levels)\n",
      "Feature Metadata (Processed):\n",
      "(raw dtype, special dtypes):\n",
      "('float', [])                : 3 | ['temp', 'atemp', 'windspeed']\n",
      "('int', [])                  : 3 | ['season', 'weather', 'humidity']\n",
      "('int', ['bool'])            : 2 | ['holiday', 'workingday']\n",
      "('int', ['datetime_as_int']) : 5 | ['datetime', 'datetime.year', 'datetime.month', 'datetime.day', 'datetime.dayofweek']\n",
      "*** End of fit() summary ***\n"
     ]
    },
    {
     "name": "stderr",
     "output_type": "stream",
     "text": [
      "/opt/conda/lib/python3.10/site-packages/autogluon/core/utils/plots.py:169: UserWarning: AutoGluon summary plots cannot be created because bokeh is not installed. To see plots, please do: \"pip install bokeh==2.0.1\"\n",
      "  warnings.warn('AutoGluon summary plots cannot be created because bokeh is not installed. To see plots, please do: \"pip install bokeh==2.0.1\"')\n"
     ]
    },
    {
     "data": {
      "text/plain": [
       "{'model_types': {'KNeighborsUnif_BAG_L1': 'StackerEnsembleModel_KNN',\n",
       "  'KNeighborsDist_BAG_L1': 'StackerEnsembleModel_KNN',\n",
       "  'LightGBMXT_BAG_L1': 'StackerEnsembleModel_LGB',\n",
       "  'LightGBM_BAG_L1': 'StackerEnsembleModel_LGB',\n",
       "  'RandomForestMSE_BAG_L1': 'StackerEnsembleModel_RF',\n",
       "  'CatBoost_BAG_L1': 'StackerEnsembleModel_CatBoost',\n",
       "  'ExtraTreesMSE_BAG_L1': 'StackerEnsembleModel_XT',\n",
       "  'WeightedEnsemble_L2': 'WeightedEnsembleModel',\n",
       "  'LightGBMXT_BAG_L2': 'StackerEnsembleModel_LGB',\n",
       "  'LightGBM_BAG_L2': 'StackerEnsembleModel_LGB',\n",
       "  'RandomForestMSE_BAG_L2': 'StackerEnsembleModel_RF',\n",
       "  'WeightedEnsemble_L3': 'WeightedEnsembleModel'},\n",
       " 'model_performance': {'KNeighborsUnif_BAG_L1': -101.54619908446061,\n",
       "  'KNeighborsDist_BAG_L1': -84.12506123181602,\n",
       "  'LightGBMXT_BAG_L1': -131.46090891834504,\n",
       "  'LightGBM_BAG_L1': -131.054161598899,\n",
       "  'RandomForestMSE_BAG_L1': -116.54835939455667,\n",
       "  'CatBoost_BAG_L1': -130.96837629032783,\n",
       "  'ExtraTreesMSE_BAG_L1': -124.60067564699747,\n",
       "  'WeightedEnsemble_L2': -84.12506123181602,\n",
       "  'LightGBMXT_BAG_L2': -60.551452861648706,\n",
       "  'LightGBM_BAG_L2': -54.96820150947099,\n",
       "  'RandomForestMSE_BAG_L2': -53.470049706884836,\n",
       "  'WeightedEnsemble_L3': -53.13377231005102},\n",
       " 'model_best': 'WeightedEnsemble_L3',\n",
       " 'model_paths': {'KNeighborsUnif_BAG_L1': ['KNeighborsUnif_BAG_L1'],\n",
       "  'KNeighborsDist_BAG_L1': ['KNeighborsDist_BAG_L1'],\n",
       "  'LightGBMXT_BAG_L1': ['LightGBMXT_BAG_L1'],\n",
       "  'LightGBM_BAG_L1': ['LightGBM_BAG_L1'],\n",
       "  'RandomForestMSE_BAG_L1': ['RandomForestMSE_BAG_L1'],\n",
       "  'CatBoost_BAG_L1': ['CatBoost_BAG_L1'],\n",
       "  'ExtraTreesMSE_BAG_L1': ['ExtraTreesMSE_BAG_L1'],\n",
       "  'WeightedEnsemble_L2': ['WeightedEnsemble_L2'],\n",
       "  'LightGBMXT_BAG_L2': ['LightGBMXT_BAG_L2'],\n",
       "  'LightGBM_BAG_L2': ['LightGBM_BAG_L2'],\n",
       "  'RandomForestMSE_BAG_L2': ['RandomForestMSE_BAG_L2'],\n",
       "  'WeightedEnsemble_L3': ['WeightedEnsemble_L3']},\n",
       " 'model_fit_times': {'KNeighborsUnif_BAG_L1': 0.047745466232299805,\n",
       "  'KNeighborsDist_BAG_L1': 0.0388028621673584,\n",
       "  'LightGBMXT_BAG_L1': 79.8885567188263,\n",
       "  'LightGBM_BAG_L1': 35.2654914855957,\n",
       "  'RandomForestMSE_BAG_L1': 16.873934745788574,\n",
       "  'CatBoost_BAG_L1': 111.39121556282043,\n",
       "  'ExtraTreesMSE_BAG_L1': 8.947803020477295,\n",
       "  'WeightedEnsemble_L2': 0.027851581573486328,\n",
       "  'LightGBMXT_BAG_L2': 62.5627977848053,\n",
       "  'LightGBM_BAG_L2': 31.078229427337646,\n",
       "  'RandomForestMSE_BAG_L2': 44.197277784347534,\n",
       "  'WeightedEnsemble_L3': 0.05341911315917969},\n",
       " 'model_pred_times': {'KNeighborsUnif_BAG_L1': 0.05565237998962402,\n",
       "  'KNeighborsDist_BAG_L1': 0.0710289478302002,\n",
       "  'LightGBMXT_BAG_L1': 12.659950733184814,\n",
       "  'LightGBM_BAG_L1': 1.517824649810791,\n",
       "  'RandomForestMSE_BAG_L1': 0.637584924697876,\n",
       "  'CatBoost_BAG_L1': 0.2634434700012207,\n",
       "  'ExtraTreesMSE_BAG_L1': 0.6315059661865234,\n",
       "  'WeightedEnsemble_L2': 0.0008080005645751953,\n",
       "  'LightGBMXT_BAG_L2': 3.548696756362915,\n",
       "  'LightGBM_BAG_L2': 0.3329803943634033,\n",
       "  'RandomForestMSE_BAG_L2': 0.8825347423553467,\n",
       "  'WeightedEnsemble_L3': 0.0007531642913818359},\n",
       " 'num_bag_folds': 8,\n",
       " 'max_stack_level': 3,\n",
       " 'model_hyperparams': {'KNeighborsUnif_BAG_L1': {'use_orig_features': True,\n",
       "   'max_base_models': 25,\n",
       "   'max_base_models_per_type': 5,\n",
       "   'save_bag_folds': True,\n",
       "   'use_child_oof': True},\n",
       "  'KNeighborsDist_BAG_L1': {'use_orig_features': True,\n",
       "   'max_base_models': 25,\n",
       "   'max_base_models_per_type': 5,\n",
       "   'save_bag_folds': True,\n",
       "   'use_child_oof': True},\n",
       "  'LightGBMXT_BAG_L1': {'use_orig_features': True,\n",
       "   'max_base_models': 25,\n",
       "   'max_base_models_per_type': 5,\n",
       "   'save_bag_folds': True},\n",
       "  'LightGBM_BAG_L1': {'use_orig_features': True,\n",
       "   'max_base_models': 25,\n",
       "   'max_base_models_per_type': 5,\n",
       "   'save_bag_folds': True},\n",
       "  'RandomForestMSE_BAG_L1': {'use_orig_features': True,\n",
       "   'max_base_models': 25,\n",
       "   'max_base_models_per_type': 5,\n",
       "   'save_bag_folds': True,\n",
       "   'use_child_oof': True},\n",
       "  'CatBoost_BAG_L1': {'use_orig_features': True,\n",
       "   'max_base_models': 25,\n",
       "   'max_base_models_per_type': 5,\n",
       "   'save_bag_folds': True},\n",
       "  'ExtraTreesMSE_BAG_L1': {'use_orig_features': True,\n",
       "   'max_base_models': 25,\n",
       "   'max_base_models_per_type': 5,\n",
       "   'save_bag_folds': True,\n",
       "   'use_child_oof': True},\n",
       "  'WeightedEnsemble_L2': {'use_orig_features': False,\n",
       "   'max_base_models': 25,\n",
       "   'max_base_models_per_type': 5,\n",
       "   'save_bag_folds': True},\n",
       "  'LightGBMXT_BAG_L2': {'use_orig_features': True,\n",
       "   'max_base_models': 25,\n",
       "   'max_base_models_per_type': 5,\n",
       "   'save_bag_folds': True},\n",
       "  'LightGBM_BAG_L2': {'use_orig_features': True,\n",
       "   'max_base_models': 25,\n",
       "   'max_base_models_per_type': 5,\n",
       "   'save_bag_folds': True},\n",
       "  'RandomForestMSE_BAG_L2': {'use_orig_features': True,\n",
       "   'max_base_models': 25,\n",
       "   'max_base_models_per_type': 5,\n",
       "   'save_bag_folds': True,\n",
       "   'use_child_oof': True},\n",
       "  'WeightedEnsemble_L3': {'use_orig_features': False,\n",
       "   'max_base_models': 25,\n",
       "   'max_base_models_per_type': 5,\n",
       "   'save_bag_folds': True}},\n",
       " 'leaderboard':                      model   score_val              eval_metric  \\\n",
       " 0      WeightedEnsemble_L3  -53.133772  root_mean_squared_error   \n",
       " 1   RandomForestMSE_BAG_L2  -53.470050  root_mean_squared_error   \n",
       " 2          LightGBM_BAG_L2  -54.968202  root_mean_squared_error   \n",
       " 3        LightGBMXT_BAG_L2  -60.551453  root_mean_squared_error   \n",
       " 4    KNeighborsDist_BAG_L1  -84.125061  root_mean_squared_error   \n",
       " 5      WeightedEnsemble_L2  -84.125061  root_mean_squared_error   \n",
       " 6    KNeighborsUnif_BAG_L1 -101.546199  root_mean_squared_error   \n",
       " 7   RandomForestMSE_BAG_L1 -116.548359  root_mean_squared_error   \n",
       " 8     ExtraTreesMSE_BAG_L1 -124.600676  root_mean_squared_error   \n",
       " 9          CatBoost_BAG_L1 -130.968376  root_mean_squared_error   \n",
       " 10         LightGBM_BAG_L1 -131.054162  root_mean_squared_error   \n",
       " 11       LightGBMXT_BAG_L1 -131.460909  root_mean_squared_error   \n",
       " \n",
       "     pred_time_val    fit_time  pred_time_val_marginal  fit_time_marginal  \\\n",
       " 0       20.601956  390.345274                0.000753           0.053419   \n",
       " 1       16.719526  296.650828                0.882535          44.197278   \n",
       " 2       16.169971  283.531779                0.332980          31.078229   \n",
       " 3       19.385688  315.016348                3.548697          62.562798   \n",
       " 4        0.071029    0.038803                0.071029           0.038803   \n",
       " 5        0.071837    0.066654                0.000808           0.027852   \n",
       " 6        0.055652    0.047745                0.055652           0.047745   \n",
       " 7        0.637585   16.873935                0.637585          16.873935   \n",
       " 8        0.631506    8.947803                0.631506           8.947803   \n",
       " 9        0.263443  111.391216                0.263443         111.391216   \n",
       " 10       1.517825   35.265491                1.517825          35.265491   \n",
       " 11      12.659951   79.888557               12.659951          79.888557   \n",
       " \n",
       "     stack_level  can_infer  fit_order  \n",
       " 0             3       True         12  \n",
       " 1             2       True         11  \n",
       " 2             2       True         10  \n",
       " 3             2       True          9  \n",
       " 4             1       True          2  \n",
       " 5             2       True          8  \n",
       " 6             1       True          1  \n",
       " 7             1       True          5  \n",
       " 8             1       True          7  \n",
       " 9             1       True          6  \n",
       " 10            1       True          4  \n",
       " 11            1       True          3  }"
      ]
     },
     "execution_count": 16,
     "metadata": {},
     "output_type": "execute_result"
    }
   ],
   "source": [
    "predictor.fit_summary()"
   ]
  },
  {
   "cell_type": "markdown",
   "metadata": {},
   "source": [
    "### Create predictions from test dataset"
   ]
  },
  {
   "cell_type": "code",
   "execution_count": 22,
   "metadata": {
    "tags": []
   },
   "outputs": [
    {
     "data": {
      "text/plain": [
       "['KNeighborsUnif_BAG_L1',\n",
       " 'KNeighborsDist_BAG_L1',\n",
       " 'LightGBMXT_BAG_L1',\n",
       " 'LightGBM_BAG_L1',\n",
       " 'RandomForestMSE_BAG_L1',\n",
       " 'CatBoost_BAG_L1',\n",
       " 'ExtraTreesMSE_BAG_L1',\n",
       " 'WeightedEnsemble_L2',\n",
       " 'LightGBMXT_BAG_L2',\n",
       " 'LightGBM_BAG_L2',\n",
       " 'RandomForestMSE_BAG_L2',\n",
       " 'WeightedEnsemble_L3']"
      ]
     },
     "execution_count": 22,
     "metadata": {},
     "output_type": "execute_result"
    }
   ],
   "source": [
    "predictor.model_names()"
   ]
  },
  {
   "cell_type": "code",
   "execution_count": 23,
   "metadata": {
    "tags": []
   },
   "outputs": [
    {
     "data": {
      "text/plain": [
       "0    24.021990\n",
       "1    43.417591\n",
       "2    46.283195\n",
       "3    49.363735\n",
       "4    52.423946\n",
       "Name: count, dtype: float32"
      ]
     },
     "execution_count": 23,
     "metadata": {},
     "output_type": "execute_result"
    }
   ],
   "source": [
    "predictions = predictor.predict(test, model='WeightedEnsemble_L3')\n",
    "predictions.head()"
   ]
  },
  {
   "cell_type": "markdown",
   "metadata": {},
   "source": [
    "#### NOTE: Kaggle will reject the submission if we don't set everything to be > 0."
   ]
  },
  {
   "cell_type": "code",
   "execution_count": 24,
   "metadata": {
    "tags": []
   },
   "outputs": [
    {
     "data": {
      "text/plain": [
       "0"
      ]
     },
     "execution_count": 24,
     "metadata": {},
     "output_type": "execute_result"
    }
   ],
   "source": [
    "(predictions<0).sum()"
   ]
  },
  {
   "cell_type": "code",
   "execution_count": 25,
   "metadata": {
    "tags": []
   },
   "outputs": [],
   "source": [
    "predictions[predictions<0] = 0"
   ]
  },
  {
   "cell_type": "markdown",
   "metadata": {},
   "source": [
    "### Set predictions to submission dataframe, save, and submit"
   ]
  },
  {
   "cell_type": "code",
   "execution_count": 26,
   "metadata": {
    "tags": []
   },
   "outputs": [],
   "source": [
    "submission[\"count\"] = predictions\n",
    "submission.to_csv(\"submission.csv\", index=False)"
   ]
  },
  {
   "cell_type": "code",
   "execution_count": 27,
   "metadata": {
    "tags": []
   },
   "outputs": [
    {
     "name": "stdout",
     "output_type": "stream",
     "text": [
      "100%|█████████████████████████████████████████| 188k/188k [00:00<00:00, 733kB/s]\n",
      "Successfully submitted to Bike Sharing Demand"
     ]
    }
   ],
   "source": [
    "!kaggle competitions submit -c bike-sharing-demand -f submission.csv -m \"first raw submission\""
   ]
  },
  {
   "cell_type": "markdown",
   "metadata": {},
   "source": [
    "#### View submission via the command line or in the web browser under the competition's page - `My Submissions`"
   ]
  },
  {
   "cell_type": "code",
   "execution_count": 28,
   "metadata": {
    "tags": []
   },
   "outputs": [
    {
     "name": "stdout",
     "output_type": "stream",
     "text": [
      "fileName                     date                 description           status    publicScore  privateScore  \n",
      "---------------------------  -------------------  --------------------  --------  -----------  ------------  \n",
      "submission.csv               2024-07-23 00:13:19  first raw submission  complete  1.80255      1.80255       \n",
      "submission.csv               2024-07-23 00:08:47  first raw submission  complete  1.80255      1.80255       \n",
      "submission_new_features.csv  2024-05-06 23:00:59  new features          complete  1.80175      1.80175       \n",
      "submission.csv               2024-05-06 22:05:29  first raw submission  complete  1.80175      1.80175       \n"
     ]
    }
   ],
   "source": [
    "!kaggle competitions submissions -c bike-sharing-demand | tail -n +1 | head -n 6"
   ]
  },
  {
   "cell_type": "markdown",
   "metadata": {},
   "source": [
    "#### Initial score of 1.80175"
   ]
  },
  {
   "cell_type": "markdown",
   "metadata": {},
   "source": [
    "## Step 4: Exploratory Data Analysis and Creating an additional feature\n",
    "* Any additional feature will do, but a great suggestion would be to separate out the datetime into hour, day, or month parts."
   ]
  },
  {
   "cell_type": "code",
   "execution_count": 29,
   "metadata": {
    "tags": []
   },
   "outputs": [
    {
     "data": {
      "text/plain": [
       "array([[<Axes: title={'center': 'datetime'}>,\n",
       "        <Axes: title={'center': 'season'}>,\n",
       "        <Axes: title={'center': 'holiday'}>],\n",
       "       [<Axes: title={'center': 'workingday'}>,\n",
       "        <Axes: title={'center': 'weather'}>,\n",
       "        <Axes: title={'center': 'temp'}>],\n",
       "       [<Axes: title={'center': 'atemp'}>,\n",
       "        <Axes: title={'center': 'humidity'}>,\n",
       "        <Axes: title={'center': 'windspeed'}>],\n",
       "       [<Axes: title={'center': 'casual'}>,\n",
       "        <Axes: title={'center': 'registered'}>,\n",
       "        <Axes: title={'center': 'count'}>]], dtype=object)"
      ]
     },
     "execution_count": 29,
     "metadata": {},
     "output_type": "execute_result"
    },
    {
     "data": {
      "image/png": "[encoded data removed]",
      "text/plain": [
       "<Figure size 640x480 with 12 Axes>"
      ]
     },
     "metadata": {},
     "output_type": "display_data"
    }
   ],
   "source": [
    "# Create a histogram of all features to show the distribution of each one relative to the data. This is part of the exploritory data analysis\n",
    "train.hist()"
   ]
  },
  {
   "cell_type": "code",
   "execution_count": 30,
   "metadata": {
    "tags": []
   },
   "outputs": [],
   "source": [
    "# create a new feature\n",
    "train['hour'] = train['datetime'].dt.hour\n",
    "test['hour'] = test['datetime'].dt.hour\n",
    "train['month'] = train['datetime'].dt.month\n",
    "test['month'] = test['datetime'].dt.month\n",
    "train['day'] = train['datetime'].dt.day\n",
    "test['day'] = test['datetime'].dt.day"
   ]
  },
  {
   "cell_type": "markdown",
   "metadata": {},
   "source": [
    "## Make category types for these so models know they are not just numbers\n",
    "* AutoGluon originally sees these as ints, but in reality they are int representations of a category.\n",
    "* Setting the dtype to category will classify these as categories in AutoGluon."
   ]
  },
  {
   "cell_type": "code",
   "execution_count": 31,
   "metadata": {
    "tags": []
   },
   "outputs": [],
   "source": [
    "train[\"season\"] = train[\"season\"].astype('category')\n",
    "train[\"weather\"] = train[\"weather\"].astype('category')\n",
    "\n",
    "train[\"season\"] = train.season.map({1: \"Spring\", 2 : \"Summer\", 3 : \"Fall\", 4 :\"Winter\" })\n",
    "train[\"weather\"] = train.weather.map({1: \" Clear + Few clouds + Partly cloudy + Partly cloudy\",\\\n",
    "                                        2 : \" Mist + Cloudy, Mist + Broken clouds, Mist + Few clouds, Mist \", \\\n",
    "                                        3 : \" Light Snow, Light Rain + Thunderstorm + Scattered clouds, Light Rain + Scattered clouds\", \\\n",
    "                                        4 :\" Heavy Rain + Ice Pallets + Thunderstorm + Mist, Snow + Fog \" })"
   ]
  },
  {
   "cell_type": "code",
   "execution_count": 32,
   "metadata": {
    "tags": []
   },
   "outputs": [
    {
     "data": {
      "text/html": [
       "<div>\n",
       "<style scoped>\n",
       "    .dataframe tbody tr th:only-of-type {\n",
       "        vertical-align: middle;\n",
       "    }\n",
       "\n",
       "    .dataframe tbody tr th {\n",
       "        vertical-align: top;\n",
       "    }\n",
       "\n",
       "    .dataframe thead th {\n",
       "        text-align: right;\n",
       "    }\n",
       "</style>\n",
       "<table border=\"1\" class=\"dataframe\">\n",
       "  <thead>\n",
       "    <tr style=\"text-align: right;\">\n",
       "      <th></th>\n",
       "      <th>datetime</th>\n",
       "      <th>season</th>\n",
       "      <th>holiday</th>\n",
       "      <th>workingday</th>\n",
       "      <th>weather</th>\n",
       "      <th>temp</th>\n",
       "      <th>atemp</th>\n",
       "      <th>humidity</th>\n",
       "      <th>windspeed</th>\n",
       "      <th>casual</th>\n",
       "      <th>registered</th>\n",
       "      <th>count</th>\n",
       "      <th>hour</th>\n",
       "      <th>month</th>\n",
       "      <th>day</th>\n",
       "    </tr>\n",
       "  </thead>\n",
       "  <tbody>\n",
       "    <tr>\n",
       "      <th>0</th>\n",
       "      <td>2011-01-01 00:00:00</td>\n",
       "      <td>Spring</td>\n",
       "      <td>0</td>\n",
       "      <td>0</td>\n",
       "      <td>Clear + Few clouds + Partly cloudy + Partly c...</td>\n",
       "      <td>9.84</td>\n",
       "      <td>14.395</td>\n",
       "      <td>81</td>\n",
       "      <td>0.0</td>\n",
       "      <td>3</td>\n",
       "      <td>13</td>\n",
       "      <td>16</td>\n",
       "      <td>0</td>\n",
       "      <td>1</td>\n",
       "      <td>1</td>\n",
       "    </tr>\n",
       "    <tr>\n",
       "      <th>1</th>\n",
       "      <td>2011-01-01 01:00:00</td>\n",
       "      <td>Spring</td>\n",
       "      <td>0</td>\n",
       "      <td>0</td>\n",
       "      <td>Clear + Few clouds + Partly cloudy + Partly c...</td>\n",
       "      <td>9.02</td>\n",
       "      <td>13.635</td>\n",
       "      <td>80</td>\n",
       "      <td>0.0</td>\n",
       "      <td>8</td>\n",
       "      <td>32</td>\n",
       "      <td>40</td>\n",
       "      <td>1</td>\n",
       "      <td>1</td>\n",
       "      <td>1</td>\n",
       "    </tr>\n",
       "    <tr>\n",
       "      <th>2</th>\n",
       "      <td>2011-01-01 02:00:00</td>\n",
       "      <td>Spring</td>\n",
       "      <td>0</td>\n",
       "      <td>0</td>\n",
       "      <td>Clear + Few clouds + Partly cloudy + Partly c...</td>\n",
       "      <td>9.02</td>\n",
       "      <td>13.635</td>\n",
       "      <td>80</td>\n",
       "      <td>0.0</td>\n",
       "      <td>5</td>\n",
       "      <td>27</td>\n",
       "      <td>32</td>\n",
       "      <td>2</td>\n",
       "      <td>1</td>\n",
       "      <td>1</td>\n",
       "    </tr>\n",
       "    <tr>\n",
       "      <th>3</th>\n",
       "      <td>2011-01-01 03:00:00</td>\n",
       "      <td>Spring</td>\n",
       "      <td>0</td>\n",
       "      <td>0</td>\n",
       "      <td>Clear + Few clouds + Partly cloudy + Partly c...</td>\n",
       "      <td>9.84</td>\n",
       "      <td>14.395</td>\n",
       "      <td>75</td>\n",
       "      <td>0.0</td>\n",
       "      <td>3</td>\n",
       "      <td>10</td>\n",
       "      <td>13</td>\n",
       "      <td>3</td>\n",
       "      <td>1</td>\n",
       "      <td>1</td>\n",
       "    </tr>\n",
       "    <tr>\n",
       "      <th>4</th>\n",
       "      <td>2011-01-01 04:00:00</td>\n",
       "      <td>Spring</td>\n",
       "      <td>0</td>\n",
       "      <td>0</td>\n",
       "      <td>Clear + Few clouds + Partly cloudy + Partly c...</td>\n",
       "      <td>9.84</td>\n",
       "      <td>14.395</td>\n",
       "      <td>75</td>\n",
       "      <td>0.0</td>\n",
       "      <td>0</td>\n",
       "      <td>1</td>\n",
       "      <td>1</td>\n",
       "      <td>4</td>\n",
       "      <td>1</td>\n",
       "      <td>1</td>\n",
       "    </tr>\n",
       "  </tbody>\n",
       "</table>\n",
       "</div>"
      ],
      "text/plain": [
       "             datetime  season  holiday  workingday  \\\n",
       "0 2011-01-01 00:00:00  Spring        0           0   \n",
       "1 2011-01-01 01:00:00  Spring        0           0   \n",
       "2 2011-01-01 02:00:00  Spring        0           0   \n",
       "3 2011-01-01 03:00:00  Spring        0           0   \n",
       "4 2011-01-01 04:00:00  Spring        0           0   \n",
       "\n",
       "                                             weather  temp   atemp  humidity  \\\n",
       "0   Clear + Few clouds + Partly cloudy + Partly c...  9.84  14.395        81   \n",
       "1   Clear + Few clouds + Partly cloudy + Partly c...  9.02  13.635        80   \n",
       "2   Clear + Few clouds + Partly cloudy + Partly c...  9.02  13.635        80   \n",
       "3   Clear + Few clouds + Partly cloudy + Partly c...  9.84  14.395        75   \n",
       "4   Clear + Few clouds + Partly cloudy + Partly c...  9.84  14.395        75   \n",
       "\n",
       "   windspeed  casual  registered  count  hour  month  day  \n",
       "0        0.0       3          13     16     0      1    1  \n",
       "1        0.0       8          32     40     1      1    1  \n",
       "2        0.0       5          27     32     2      1    1  \n",
       "3        0.0       3          10     13     3      1    1  \n",
       "4        0.0       0           1      1     4      1    1  "
      ]
     },
     "execution_count": 32,
     "metadata": {},
     "output_type": "execute_result"
    }
   ],
   "source": [
    "# View are new feature\n",
    "train.head()"
   ]
  },
  {
   "cell_type": "code",
   "execution_count": 35,
   "metadata": {
    "tags": []
   },
   "outputs": [
    {
     "data": {
      "text/plain": [
       "datetime      datetime64[ns]\n",
       "season              category\n",
       "holiday                int64\n",
       "workingday             int64\n",
       "weather             category\n",
       "temp                 float64\n",
       "atemp                float64\n",
       "humidity               int64\n",
       "windspeed            float64\n",
       "casual                 int64\n",
       "registered             int64\n",
       "count                  int64\n",
       "hour                   int32\n",
       "month                  int32\n",
       "day                    int32\n",
       "dtype: object"
      ]
     },
     "execution_count": 35,
     "metadata": {},
     "output_type": "execute_result"
    }
   ],
   "source": [
    "train.dtypes"
   ]
  },
  {
   "cell_type": "code",
   "execution_count": 36,
   "metadata": {
    "tags": []
   },
   "outputs": [
    {
     "data": {
      "text/plain": [
       "array([[<Axes: title={'center': 'datetime'}>,\n",
       "        <Axes: title={'center': 'holiday'}>,\n",
       "        <Axes: title={'center': 'workingday'}>,\n",
       "        <Axes: title={'center': 'temp'}>],\n",
       "       [<Axes: title={'center': 'atemp'}>,\n",
       "        <Axes: title={'center': 'humidity'}>,\n",
       "        <Axes: title={'center': 'windspeed'}>,\n",
       "        <Axes: title={'center': 'casual'}>],\n",
       "       [<Axes: title={'center': 'registered'}>,\n",
       "        <Axes: title={'center': 'count'}>,\n",
       "        <Axes: title={'center': 'hour'}>,\n",
       "        <Axes: title={'center': 'month'}>],\n",
       "       [<Axes: title={'center': 'day'}>, <Axes: >, <Axes: >, <Axes: >]],\n",
       "      dtype=object)"
      ]
     },
     "execution_count": 36,
     "metadata": {},
     "output_type": "execute_result"
    },
    {
     "data": {
      "image/png": "[encoded data removed]",
      "text/plain": [
       "<Figure size 640x480 with 16 Axes>"
      ]
     },
     "metadata": {},
     "output_type": "display_data"
    }
   ],
   "source": [
    "train.hist()"
   ]
  },
  {
   "cell_type": "markdown",
   "metadata": {},
   "source": [
    "## Step 5: Rerun the model with the same settings as before, just with more features"
   ]
  },
  {
   "cell_type": "code",
   "execution_count": 37,
   "metadata": {
    "scrolled": true,
    "tags": []
   },
   "outputs": [
    {
     "name": "stderr",
     "output_type": "stream",
     "text": [
      "No path specified. Models will be saved in: \"AutogluonModels/ag-20240723_002115\"\n",
      "Verbosity: 2 (Standard Logging)\n",
      "=================== System Info ===================\n",
      "AutoGluon Version:  1.1.1\n",
      "Python Version:     3.10.6\n",
      "Operating System:   Linux\n",
      "Platform Machine:   x86_64\n",
      "Platform Version:   #1 SMP Tue Jun 18 14:00:06 UTC 2024\n",
      "CPU Count:          2\n",
      "Memory Avail:       2.23 GB / 3.76 GB (59.2%)\n",
      "Disk Space Avail:   8589934587.01 GB / 8589934592.00 GB (100.0%)\n",
      "===================================================\n",
      "Presets specified: ['best_quality']\n",
      "Setting dynamic_stacking from 'auto' to True. Reason: Enable dynamic_stacking when use_bag_holdout is disabled. (use_bag_holdout=False)\n",
      "Stack configuration (auto_stack=True): num_stack_levels=1, num_bag_folds=8, num_bag_sets=1\n",
      "DyStack is enabled (dynamic_stacking=True). AutoGluon will try to determine whether the input data is affected by stacked overfitting and enable or disable stacking as a consequence.\n",
      "\tThis is used to identify the optimal `num_stack_levels` value. Copies of AutoGluon will be fit on subsets of the data. Then holdout validation data is used to detect stacked overfitting.\n",
      "\tRunning DyStack for up to 150s of the 600s of remaining time (25%).\n",
      "2024-07-23 00:21:16,280\tINFO util.py:154 -- Outdated packages:\n",
      "  ipywidgets==7.6.5 found, needs ipywidgets>=8\n",
      "Run `pip install -U ipywidgets`, then restart the notebook server for rich notebook output.\n",
      "\tRunning DyStack sub-fit in a ray process to avoid memory leakage. Enabling ray logging (enable_ray_logging=True). Specify `ds_args={'enable_ray_logging': False}` if you experience logging issues.\n",
      "2024-07-23 00:21:18,838\tWARNING services.py:1996 -- WARNING: The object store is using /tmp instead of /dev/shm because /dev/shm has only 411041792 bytes available. This will harm performance! You may be able to free up space by deleting files in /dev/shm. If you are inside a Docker container, you can increase /dev/shm size by passing '--shm-size=0.58gb' to 'docker run' (or add it to the run_options list in a Ray cluster config). Make sure to set this to more than 30% of available RAM.\n",
      "2024-07-23 00:21:19,939\tINFO worker.py:1743 -- Started a local Ray instance. View the dashboard at \u001b[1m\u001b[32m127.0.0.1:8265 \u001b[39m\u001b[22m\n",
      "\t\tContext path: \"AutogluonModels/ag-20240723_002115/ds_sub_fit/sub_fit_ho\"\n",
      "\u001b[36m(_dystack pid=532)\u001b[0m Running DyStack sub-fit ...\n",
      "\u001b[36m(_dystack pid=532)\u001b[0m Beginning AutoGluon training ... Time limit = 145s\n",
      "\u001b[36m(_dystack pid=532)\u001b[0m AutoGluon will save models to \"AutogluonModels/ag-20240723_002115/ds_sub_fit/sub_fit_ho\"\n",
      "\u001b[36m(_dystack pid=532)\u001b[0m Train Data Rows:    9676\n",
      "\u001b[36m(_dystack pid=532)\u001b[0m Train Data Columns: 14\n",
      "\u001b[36m(_dystack pid=532)\u001b[0m Label Column:       count\n",
      "\u001b[36m(_dystack pid=532)\u001b[0m Problem Type:       regression\n",
      "\u001b[36m(_dystack pid=532)\u001b[0m Preprocessing data ...\n",
      "\u001b[36m(_dystack pid=532)\u001b[0m Using Feature Generators to preprocess the data ...\n",
      "\u001b[36m(_dystack pid=532)\u001b[0m Dropping user-specified ignored columns: ['casual', 'registered']\n",
      "\u001b[36m(_dystack pid=532)\u001b[0m Fitting AutoMLPipelineFeatureGenerator...\n",
      "\u001b[36m(_dystack pid=532)\u001b[0m \tAvailable Memory:                    1837.60 MB\n",
      "\u001b[36m(_dystack pid=532)\u001b[0m \tTrain Data (Original)  Memory Usage: 0.65 MB (0.0% of available memory)\n",
      "\u001b[36m(_dystack pid=532)\u001b[0m \tInferring data type of each feature based on column values. Set feature_metadata_in to manually specify special dtypes of the features.\n",
      "\u001b[36m(_dystack pid=532)\u001b[0m \tStage 1 Generators:\n",
      "\u001b[36m(_dystack pid=532)\u001b[0m \t\tFitting AsTypeFeatureGenerator...\n",
      "\u001b[36m(_dystack pid=532)\u001b[0m \t\t\tNote: Converting 2 features to boolean dtype as they only contain 2 unique values.\n",
      "\u001b[36m(_dystack pid=532)\u001b[0m \tStage 2 Generators:\n",
      "\u001b[36m(_dystack pid=532)\u001b[0m \t\tFitting FillNaFeatureGenerator...\n",
      "\u001b[36m(_dystack pid=532)\u001b[0m \tStage 3 Generators:\n",
      "\u001b[36m(_dystack pid=532)\u001b[0m \t\tFitting IdentityFeatureGenerator...\n",
      "\u001b[36m(_dystack pid=532)\u001b[0m \t\tFitting CategoryFeatureGenerator...\n",
      "\u001b[36m(_dystack pid=532)\u001b[0m \t\t\tFitting CategoryMemoryMinimizeFeatureGenerator...\n",
      "\u001b[36m(_dystack pid=532)\u001b[0m \t\tFitting DatetimeFeatureGenerator...\n",
      "\u001b[36m(_dystack pid=532)\u001b[0m \tStage 4 Generators:\n",
      "\u001b[36m(_dystack pid=532)\u001b[0m \t\tFitting DropUniqueFeatureGenerator...\n",
      "\u001b[36m(_dystack pid=532)\u001b[0m \tStage 5 Generators:\n",
      "\u001b[36m(_dystack pid=532)\u001b[0m \t\tFitting DropDuplicatesFeatureGenerator...\n",
      "\u001b[36m(_dystack pid=532)\u001b[0m \tTypes of features in original data (raw dtype, special dtypes):\n",
      "\u001b[36m(_dystack pid=532)\u001b[0m \t\t('category', []) : 2 | ['season', 'weather']\n",
      "\u001b[36m(_dystack pid=532)\u001b[0m \t\t('datetime', []) : 1 | ['datetime']\n",
      "\u001b[36m(_dystack pid=532)\u001b[0m \t\t('float', [])    : 3 | ['temp', 'atemp', 'windspeed']\n",
      "\u001b[36m(_dystack pid=532)\u001b[0m \t\t('int', [])      : 6 | ['holiday', 'workingday', 'humidity', 'hour', 'month', ...]\n",
      "\u001b[36m(_dystack pid=532)\u001b[0m \tTypes of features in processed data (raw dtype, special dtypes):\n",
      "\u001b[36m(_dystack pid=532)\u001b[0m \t\t('category', [])             : 2 | ['season', 'weather']\n",
      "\u001b[36m(_dystack pid=532)\u001b[0m \t\t('float', [])                : 3 | ['temp', 'atemp', 'windspeed']\n",
      "\u001b[36m(_dystack pid=532)\u001b[0m \t\t('int', [])                  : 4 | ['humidity', 'hour', 'month', 'day']\n",
      "\u001b[36m(_dystack pid=532)\u001b[0m \t\t('int', ['bool'])            : 2 | ['holiday', 'workingday']\n",
      "\u001b[36m(_dystack pid=532)\u001b[0m \t\t('int', ['datetime_as_int']) : 3 | ['datetime', 'datetime.year', 'datetime.dayofweek']\n",
      "\u001b[36m(_dystack pid=532)\u001b[0m \t0.4s = Fit runtime\n",
      "\u001b[36m(_dystack pid=532)\u001b[0m \t12 features in original data used to generate 14 features in processed data.\n",
      "\u001b[36m(_dystack pid=532)\u001b[0m \tTrain Data (Processed) Memory Usage: 0.67 MB (0.0% of available memory)\n",
      "\u001b[36m(_dystack pid=532)\u001b[0m Data preprocessing and feature engineering runtime = 0.45s ...\n",
      "\u001b[36m(_dystack pid=532)\u001b[0m AutoGluon will gauge predictive performance using evaluation metric: 'root_mean_squared_error'\n",
      "\u001b[36m(_dystack pid=532)\u001b[0m \tThis metric's sign has been flipped to adhere to being higher_is_better. The metric score can be multiplied by -1 to get the metric value.\n",
      "\u001b[36m(_dystack pid=532)\u001b[0m \tTo change this, specify the eval_metric parameter of Predictor()\n",
      "\u001b[36m(_dystack pid=532)\u001b[0m Large model count detected (112 configs) ... Only displaying the first 3 models of each family. To see all, set `verbosity=3`.\n",
      "\u001b[36m(_dystack pid=532)\u001b[0m User-specified model hyperparameters to be fit:\n",
      "\u001b[36m(_dystack pid=532)\u001b[0m {\n",
      "\u001b[36m(_dystack pid=532)\u001b[0m \t'NN_TORCH': [{}, {'activation': 'elu', 'dropout_prob': 0.10077639529843717, 'hidden_size': 108, 'learning_rate': 0.002735937344002146, 'num_layers': 4, 'use_batchnorm': True, 'weight_decay': 1.356433327634438e-12, 'ag_args': {'name_suffix': '_r79', 'priority': -2}}, {'activation': 'elu', 'dropout_prob': 0.11897478034205347, 'hidden_size': 213, 'learning_rate': 0.0010474382260641949, 'num_layers': 4, 'use_batchnorm': False, 'weight_decay': 5.594471067786272e-10, 'ag_args': {'name_suffix': '_r22', 'priority': -7}}],\n",
      "\u001b[36m(_dystack pid=532)\u001b[0m \t'GBM': [{'extra_trees': True, 'ag_args': {'name_suffix': 'XT'}}, {}, 'GBMLarge'],\n",
      "\u001b[36m(_dystack pid=532)\u001b[0m \t'CAT': [{}, {'depth': 6, 'grow_policy': 'SymmetricTree', 'l2_leaf_reg': 2.1542798306067823, 'learning_rate': 0.06864209415792857, 'max_ctr_complexity': 4, 'one_hot_max_size': 10, 'ag_args': {'name_suffix': '_r177', 'priority': -1}}, {'depth': 8, 'grow_policy': 'Depthwise', 'l2_leaf_reg': 2.7997999596449104, 'learning_rate': 0.031375015734637225, 'max_ctr_complexity': 2, 'one_hot_max_size': 3, 'ag_args': {'name_suffix': '_r9', 'priority': -5}}],\n",
      "\u001b[36m(_dystack pid=532)\u001b[0m \t'XGB': [{}, {'colsample_bytree': 0.6917311125174739, 'enable_categorical': False, 'learning_rate': 0.018063876087523967, 'max_depth': 10, 'min_child_weight': 0.6028633586934382, 'ag_args': {'name_suffix': '_r33', 'priority': -8}}, {'colsample_bytree': 0.6628423832084077, 'enable_categorical': False, 'learning_rate': 0.08775715546881824, 'max_depth': 5, 'min_child_weight': 0.6294123374222513, 'ag_args': {'name_suffix': '_r89', 'priority': -16}}],\n",
      "\u001b[36m(_dystack pid=532)\u001b[0m \t'FASTAI': [{}, {'bs': 256, 'emb_drop': 0.5411770367537934, 'epochs': 43, 'layers': [800, 400], 'lr': 0.01519848858318159, 'ps': 0.23782946566604385, 'ag_args': {'name_suffix': '_r191', 'priority': -4}}, {'bs': 2048, 'emb_drop': 0.05070411322605811, 'epochs': 29, 'layers': [200, 100], 'lr': 0.08974235041576624, 'ps': 0.10393466140748028, 'ag_args': {'name_suffix': '_r102', 'priority': -11}}],\n",
      "\u001b[36m(_dystack pid=532)\u001b[0m \t'RF': [{'criterion': 'gini', 'ag_args': {'name_suffix': 'Gini', 'problem_types': ['binary', 'multiclass']}}, {'criterion': 'entropy', 'ag_args': {'name_suffix': 'Entr', 'problem_types': ['binary', 'multiclass']}}, {'criterion': 'squared_error', 'ag_args': {'name_suffix': 'MSE', 'problem_types': ['regression', 'quantile']}}],\n",
      "\u001b[36m(_dystack pid=532)\u001b[0m \t'XT': [{'criterion': 'gini', 'ag_args': {'name_suffix': 'Gini', 'problem_types': ['binary', 'multiclass']}}, {'criterion': 'entropy', 'ag_args': {'name_suffix': 'Entr', 'problem_types': ['binary', 'multiclass']}}, {'criterion': 'squared_error', 'ag_args': {'name_suffix': 'MSE', 'problem_types': ['regression', 'quantile']}}],\n",
      "\u001b[36m(_dystack pid=532)\u001b[0m \t'KNN': [{'weights': 'uniform', 'ag_args': {'name_suffix': 'Unif'}}, {'weights': 'distance', 'ag_args': {'name_suffix': 'Dist'}}],\n",
      "\u001b[36m(_dystack pid=532)\u001b[0m }\n",
      "\u001b[36m(_dystack pid=532)\u001b[0m AutoGluon will fit 2 stack levels (L1 to L2) ...\n",
      "\u001b[36m(_dystack pid=532)\u001b[0m Fitting 108 L1 models ...\n",
      "\u001b[36m(_dystack pid=532)\u001b[0m Fitting model: KNeighborsUnif_BAG_L1 ... Training model for up to 96.06s of the 144.11s of remaining time.\n",
      "\u001b[36m(_dystack pid=532)\u001b[0m \t-107.445\t = Validation score   (-root_mean_squared_error)\n",
      "\u001b[36m(_dystack pid=532)\u001b[0m \t0.02s\t = Training   runtime\n",
      "\u001b[36m(_dystack pid=532)\u001b[0m \t0.06s\t = Validation runtime\n",
      "\u001b[36m(_dystack pid=532)\u001b[0m Fitting model: KNeighborsDist_BAG_L1 ... Training model for up to 92.57s of the 140.62s of remaining time.\n",
      "\u001b[36m(_dystack pid=532)\u001b[0m \t-89.9469\t = Validation score   (-root_mean_squared_error)\n",
      "\u001b[36m(_dystack pid=532)\u001b[0m \t0.02s\t = Training   runtime\n",
      "\u001b[36m(_dystack pid=532)\u001b[0m \t0.05s\t = Validation runtime\n",
      "\u001b[36m(_dystack pid=532)\u001b[0m Fitting model: LightGBMXT_BAG_L1 ... Training model for up to 92.36s of the 140.42s of remaining time.\n",
      "\u001b[36m(_dystack pid=532)\u001b[0m \tFitting 8 child models (S1F1 - S1F8) | Fitting with ParallelLocalFoldFittingStrategy (2 workers, per: cpus=1, gpus=0, memory=0.43%)\n"
     ]
    },
    {
     "name": "stdout",
     "output_type": "stream",
     "text": [
      "\u001b[36m(_ray_fit pid=651)\u001b[0m [1000]\tvalid_set's rmse: 39.047\n",
      "\u001b[36m(_ray_fit pid=651)\u001b[0m [5000]\tvalid_set's rmse: 36.143\u001b[32m [repeated 8x across cluster] (Ray deduplicates logs by default. Set RAY_DEDUP_LOGS=0 to disable log deduplication, or see https://docs.ray.io/en/master/ray-observability/ray-logging.html#log-deduplication for more options.)\u001b[0m\n",
      "\u001b[36m(_ray_fit pid=712)\u001b[0m [1000]\tvalid_set's rmse: 39.8039\u001b[32m [repeated 7x across cluster]\u001b[0m\n",
      "\u001b[36m(_ray_fit pid=712)\u001b[0m [4000]\tvalid_set's rmse: 37.3204\u001b[32m [repeated 6x across cluster]\u001b[0m\n",
      "\u001b[36m(_ray_fit pid=737)\u001b[0m [7000]\tvalid_set's rmse: 35.1048\u001b[32m [repeated 7x across cluster]\u001b[0m\n",
      "\u001b[36m(_ray_fit pid=767)\u001b[0m [1000]\tvalid_set's rmse: 35.2602\n",
      "\u001b[36m(_ray_fit pid=792)\u001b[0m [1000]\tvalid_set's rmse: 37.6615\n",
      "\u001b[36m(_ray_fit pid=767)\u001b[0m [5000]\tvalid_set's rmse: 33.5052\u001b[32m [repeated 7x across cluster]\u001b[0m\n",
      "\u001b[36m(_ray_fit pid=767)\u001b[0m [9000]\tvalid_set's rmse: 33.3894\u001b[32m [repeated 4x across cluster]\u001b[0m\n",
      "\u001b[36m(_ray_fit pid=823)\u001b[0m [3000]\tvalid_set's rmse: 34.5121\u001b[32m [repeated 3x across cluster]\u001b[0m\n",
      "\u001b[36m(_ray_fit pid=856)\u001b[0m [1000]\tvalid_set's rmse: 37.1911\u001b[32m [repeated 3x across cluster]\u001b[0m\n"
     ]
    },
    {
     "name": "stderr",
     "output_type": "stream",
     "text": [
      "\u001b[36m(_dystack pid=532)\u001b[0m \t-35.0836\t = Validation score   (-root_mean_squared_error)\n",
      "\u001b[36m(_dystack pid=532)\u001b[0m \t79.3s\t = Training   runtime\n",
      "\u001b[36m(_dystack pid=532)\u001b[0m \t8.96s\t = Validation runtime\n",
      "\u001b[36m(_dystack pid=532)\u001b[0m Fitting model: LightGBM_BAG_L1 ... Training model for up to 7.69s of the 55.75s of remaining time.\n",
      "\u001b[36m(_dystack pid=532)\u001b[0m \tFitting 8 child models (S1F1 - S1F8) | Fitting with ParallelLocalFoldFittingStrategy (2 workers, per: cpus=1, gpus=0, memory=0.49%)\n",
      "\u001b[36m(_dystack pid=532)\u001b[0m \t-34.7083\t = Validation score   (-root_mean_squared_error)\n",
      "\u001b[36m(_dystack pid=532)\u001b[0m \t22.88s\t = Training   runtime\n",
      "\u001b[36m(_dystack pid=532)\u001b[0m \t0.86s\t = Validation runtime\n",
      "\u001b[36m(_dystack pid=532)\u001b[0m Fitting model: WeightedEnsemble_L2 ... Training model for up to 144.13s of the 27.93s of remaining time.\n",
      "\u001b[36m(_dystack pid=532)\u001b[0m \tEnsemble Weights: {'LightGBM_BAG_L1': 0.529, 'LightGBMXT_BAG_L1': 0.471}\n",
      "\u001b[36m(_dystack pid=532)\u001b[0m \t-33.3402\t = Validation score   (-root_mean_squared_error)\n",
      "\u001b[36m(_dystack pid=532)\u001b[0m \t0.02s\t = Training   runtime\n",
      "\u001b[36m(_dystack pid=532)\u001b[0m \t0.0s\t = Validation runtime\n",
      "\u001b[36m(_dystack pid=532)\u001b[0m Fitting 106 L2 models ...\n",
      "\u001b[36m(_dystack pid=532)\u001b[0m Fitting model: LightGBMXT_BAG_L2 ... Training model for up to 27.84s of the 27.81s of remaining time.\n",
      "\u001b[36m(_dystack pid=532)\u001b[0m \tFitting 8 child models (S1F1 - S1F8) | Fitting with ParallelLocalFoldFittingStrategy (2 workers, per: cpus=1, gpus=0, memory=0.53%)\n",
      "\u001b[36m(_dystack pid=532)\u001b[0m \t-32.959\t = Validation score   (-root_mean_squared_error)\n",
      "\u001b[36m(_dystack pid=532)\u001b[0m \t22.16s\t = Training   runtime\n",
      "\u001b[36m(_dystack pid=532)\u001b[0m \t0.5s\t = Validation runtime\n",
      "\u001b[36m(_dystack pid=532)\u001b[0m Fitting model: LightGBM_BAG_L2 ... Training model for up to 2.82s of the 2.79s of remaining time.\n",
      "\u001b[36m(_dystack pid=532)\u001b[0m \tFitting 8 child models (S1F1 - S1F8) | Fitting with ParallelLocalFoldFittingStrategy (2 workers, per: cpus=1, gpus=0, memory=0.67%)\n",
      "\u001b[36m(_dystack pid=532)\u001b[0m \t-32.8448\t = Validation score   (-root_mean_squared_error)\n",
      "\u001b[36m(_dystack pid=532)\u001b[0m \t17.43s\t = Training   runtime\n",
      "\u001b[36m(_dystack pid=532)\u001b[0m \t0.12s\t = Validation runtime\n",
      "\u001b[36m(_dystack pid=532)\u001b[0m Fitting model: WeightedEnsemble_L3 ... Training model for up to 144.13s of the -19.99s of remaining time.\n",
      "\u001b[36m(_dystack pid=532)\u001b[0m \tEnsemble Weights: {'LightGBMXT_BAG_L2': 0.389, 'LightGBM_BAG_L2': 0.389, 'LightGBMXT_BAG_L1': 0.111, 'LightGBM_BAG_L1': 0.111}\n",
      "\u001b[36m(_dystack pid=532)\u001b[0m \t-32.3828\t = Validation score   (-root_mean_squared_error)\n",
      "\u001b[36m(_dystack pid=532)\u001b[0m \t0.02s\t = Training   runtime\n",
      "\u001b[36m(_dystack pid=532)\u001b[0m \t0.0s\t = Validation runtime\n",
      "\u001b[36m(_dystack pid=532)\u001b[0m AutoGluon training complete, total runtime = 164.8s ... Best model: WeightedEnsemble_L3 | Estimated inference throughput: 115.8 rows/s (1210 batch size)\n",
      "\u001b[36m(_dystack pid=532)\u001b[0m TabularPredictor saved. To load, use: predictor = TabularPredictor.load(\"AutogluonModels/ag-20240723_002115/ds_sub_fit/sub_fit_ho\")\n",
      "\u001b[36m(_dystack pid=532)\u001b[0m Deleting DyStack predictor artifacts (clean_up_fits=True) ...\n",
      "Leaderboard on holdout data (DyStack):\n",
      "                   model  score_holdout   score_val              eval_metric  pred_time_test  pred_time_val    fit_time  pred_time_test_marginal  pred_time_val_marginal  fit_time_marginal  stack_level  can_infer  fit_order\n",
      "0    WeightedEnsemble_L3     -31.799728  -32.382818  root_mean_squared_error       11.038383      10.540398  141.824190                 0.004555                0.000667           0.019651            3       True          8\n",
      "1        LightGBM_BAG_L2     -31.966295  -32.844755  root_mean_squared_error       10.656028      10.041490  119.639938                 0.137863                0.120556          17.425648            2       True          7\n",
      "2      LightGBMXT_BAG_L2     -32.245336  -32.959030  root_mean_squared_error       10.895964      10.419175  124.378891                 0.377800                0.498241          22.164601            2       True          6\n",
      "3    WeightedEnsemble_L2     -32.851185  -33.340177  root_mean_squared_error       10.427250       9.819475  102.199322                 0.007285                0.000735           0.023696            2       True          5\n",
      "4        LightGBM_BAG_L1     -33.952702  -34.708277  root_mean_squared_error        1.239910       0.861319   22.877912                 1.239910                0.861319          22.877912            1       True          4\n",
      "5      LightGBMXT_BAG_L1     -34.249129  -35.083611  root_mean_squared_error        9.180054       8.957421   79.297713                 9.180054                8.957421          79.297713            1       True          3\n",
      "6  KNeighborsDist_BAG_L1     -92.031272  -89.946854  root_mean_squared_error        0.050392       0.047040    0.015782                 0.050392                0.047040           0.015782            1       True          2\n",
      "7  KNeighborsUnif_BAG_L1    -109.161488 -107.445008  root_mean_squared_error        0.047807       0.055154    0.022882                 0.047807                0.055154           0.022882            1       True          1\n",
      "\t1\t = Optimal   num_stack_levels (Stacked Overfitting Occurred: False)\n",
      "\t184s\t = DyStack   runtime |\t416s\t = Remaining runtime\n",
      "Starting main fit with num_stack_levels=1.\n",
      "\tFor future fit calls on this dataset, you can skip DyStack to save time: `predictor.fit(..., dynamic_stacking=False, num_stack_levels=1)`\n",
      "Beginning AutoGluon training ... Time limit = 416s\n",
      "AutoGluon will save models to \"AutogluonModels/ag-20240723_002115\"\n",
      "Train Data Rows:    10886\n",
      "Train Data Columns: 14\n",
      "Label Column:       count\n",
      "Problem Type:       regression\n",
      "Preprocessing data ...\n",
      "Using Feature Generators to preprocess the data ...\n",
      "Dropping user-specified ignored columns: ['casual', 'registered']\n",
      "Fitting AutoMLPipelineFeatureGenerator...\n",
      "\tAvailable Memory:                    1613.93 MB\n",
      "\tTrain Data (Original)  Memory Usage: 0.73 MB (0.0% of available memory)\n",
      "\tInferring data type of each feature based on column values. Set feature_metadata_in to manually specify special dtypes of the features.\n",
      "\tStage 1 Generators:\n",
      "\t\tFitting AsTypeFeatureGenerator...\n",
      "\t\t\tNote: Converting 2 features to boolean dtype as they only contain 2 unique values.\n",
      "\tStage 2 Generators:\n",
      "\t\tFitting FillNaFeatureGenerator...\n",
      "\tStage 3 Generators:\n",
      "\t\tFitting IdentityFeatureGenerator...\n",
      "\t\tFitting CategoryFeatureGenerator...\n",
      "\t\t\tFitting CategoryMemoryMinimizeFeatureGenerator...\n",
      "\t\tFitting DatetimeFeatureGenerator...\n",
      "\tStage 4 Generators:\n",
      "\t\tFitting DropUniqueFeatureGenerator...\n",
      "\tStage 5 Generators:\n",
      "\t\tFitting DropDuplicatesFeatureGenerator...\n",
      "\tTypes of features in original data (raw dtype, special dtypes):\n",
      "\t\t('category', []) : 2 | ['season', 'weather']\n",
      "\t\t('datetime', []) : 1 | ['datetime']\n",
      "\t\t('float', [])    : 3 | ['temp', 'atemp', 'windspeed']\n",
      "\t\t('int', [])      : 6 | ['holiday', 'workingday', 'humidity', 'hour', 'month', ...]\n",
      "\tTypes of features in processed data (raw dtype, special dtypes):\n",
      "\t\t('category', [])             : 2 | ['season', 'weather']\n",
      "\t\t('float', [])                : 3 | ['temp', 'atemp', 'windspeed']\n",
      "\t\t('int', [])                  : 4 | ['humidity', 'hour', 'month', 'day']\n",
      "\t\t('int', ['bool'])            : 2 | ['holiday', 'workingday']\n",
      "\t\t('int', ['datetime_as_int']) : 3 | ['datetime', 'datetime.year', 'datetime.dayofweek']\n",
      "\t1.0s = Fit runtime\n",
      "\t12 features in original data used to generate 14 features in processed data.\n",
      "\tTrain Data (Processed) Memory Usage: 0.75 MB (0.0% of available memory)\n",
      "Data preprocessing and feature engineering runtime = 1.0s ...\n",
      "AutoGluon will gauge predictive performance using evaluation metric: 'root_mean_squared_error'\n",
      "\tThis metric's sign has been flipped to adhere to being higher_is_better. The metric score can be multiplied by -1 to get the metric value.\n",
      "\tTo change this, specify the eval_metric parameter of Predictor()\n",
      "Large model count detected (112 configs) ... Only displaying the first 3 models of each family. To see all, set `verbosity=3`.\n",
      "User-specified model hyperparameters to be fit:\n",
      "{\n",
      "\t'NN_TORCH': [{}, {'activation': 'elu', 'dropout_prob': 0.10077639529843717, 'hidden_size': 108, 'learning_rate': 0.002735937344002146, 'num_layers': 4, 'use_batchnorm': True, 'weight_decay': 1.356433327634438e-12, 'ag_args': {'name_suffix': '_r79', 'priority': -2}}, {'activation': 'elu', 'dropout_prob': 0.11897478034205347, 'hidden_size': 213, 'learning_rate': 0.0010474382260641949, 'num_layers': 4, 'use_batchnorm': False, 'weight_decay': 5.594471067786272e-10, 'ag_args': {'name_suffix': '_r22', 'priority': -7}}],\n",
      "\t'GBM': [{'extra_trees': True, 'ag_args': {'name_suffix': 'XT'}}, {}, 'GBMLarge'],\n",
      "\t'CAT': [{}, {'depth': 6, 'grow_policy': 'SymmetricTree', 'l2_leaf_reg': 2.1542798306067823, 'learning_rate': 0.06864209415792857, 'max_ctr_complexity': 4, 'one_hot_max_size': 10, 'ag_args': {'name_suffix': '_r177', 'priority': -1}}, {'depth': 8, 'grow_policy': 'Depthwise', 'l2_leaf_reg': 2.7997999596449104, 'learning_rate': 0.031375015734637225, 'max_ctr_complexity': 2, 'one_hot_max_size': 3, 'ag_args': {'name_suffix': '_r9', 'priority': -5}}],\n",
      "\t'XGB': [{}, {'colsample_bytree': 0.6917311125174739, 'enable_categorical': False, 'learning_rate': 0.018063876087523967, 'max_depth': 10, 'min_child_weight': 0.6028633586934382, 'ag_args': {'name_suffix': '_r33', 'priority': -8}}, {'colsample_bytree': 0.6628423832084077, 'enable_categorical': False, 'learning_rate': 0.08775715546881824, 'max_depth': 5, 'min_child_weight': 0.6294123374222513, 'ag_args': {'name_suffix': '_r89', 'priority': -16}}],\n",
      "\t'FASTAI': [{}, {'bs': 256, 'emb_drop': 0.5411770367537934, 'epochs': 43, 'layers': [800, 400], 'lr': 0.01519848858318159, 'ps': 0.23782946566604385, 'ag_args': {'name_suffix': '_r191', 'priority': -4}}, {'bs': 2048, 'emb_drop': 0.05070411322605811, 'epochs': 29, 'layers': [200, 100], 'lr': 0.08974235041576624, 'ps': 0.10393466140748028, 'ag_args': {'name_suffix': '_r102', 'priority': -11}}],\n",
      "\t'RF': [{'criterion': 'gini', 'ag_args': {'name_suffix': 'Gini', 'problem_types': ['binary', 'multiclass']}}, {'criterion': 'entropy', 'ag_args': {'name_suffix': 'Entr', 'problem_types': ['binary', 'multiclass']}}, {'criterion': 'squared_error', 'ag_args': {'name_suffix': 'MSE', 'problem_types': ['regression', 'quantile']}}],\n",
      "\t'XT': [{'criterion': 'gini', 'ag_args': {'name_suffix': 'Gini', 'problem_types': ['binary', 'multiclass']}}, {'criterion': 'entropy', 'ag_args': {'name_suffix': 'Entr', 'problem_types': ['binary', 'multiclass']}}, {'criterion': 'squared_error', 'ag_args': {'name_suffix': 'MSE', 'problem_types': ['regression', 'quantile']}}],\n",
      "\t'KNN': [{'weights': 'uniform', 'ag_args': {'name_suffix': 'Unif'}}, {'weights': 'distance', 'ag_args': {'name_suffix': 'Dist'}}],\n",
      "}\n",
      "AutoGluon will fit 2 stack levels (L1 to L2) ...\n",
      "Fitting 108 L1 models ...\n",
      "Fitting model: KNeighborsUnif_BAG_L1 ... Training model for up to 276.6s of the 414.99s of remaining time.\n",
      "\t-101.5462\t = Validation score   (-root_mean_squared_error)\n",
      "\t0.03s\t = Training   runtime\n",
      "\t0.05s\t = Validation runtime\n",
      "Fitting model: KNeighborsDist_BAG_L1 ... Training model for up to 274.11s of the 412.5s of remaining time.\n",
      "\t-84.1251\t = Validation score   (-root_mean_squared_error)\n",
      "\t0.03s\t = Training   runtime\n",
      "\t0.04s\t = Validation runtime\n",
      "Fitting model: LightGBMXT_BAG_L1 ... Training model for up to 273.89s of the 412.28s of remaining time.\n",
      "\tFitting 8 child models (S1F1 - S1F8) | Fitting with ParallelLocalFoldFittingStrategy (2 workers, per: cpus=1, gpus=0, memory=0.38%)\n",
      "\t-34.6496\t = Validation score   (-root_mean_squared_error)\n",
      "\t79.7s\t = Training   runtime\n",
      "\t10.25s\t = Validation runtime\n",
      "Fitting model: LightGBM_BAG_L1 ... Training model for up to 190.14s of the 328.53s of remaining time.\n",
      "\tFitting 8 child models (S1F1 - S1F8) | Fitting with ParallelLocalFoldFittingStrategy (2 workers, per: cpus=1, gpus=0, memory=0.42%)\n",
      "\t-33.9169\t = Validation score   (-root_mean_squared_error)\n",
      "\t37.33s\t = Training   runtime\n",
      "\t2.81s\t = Validation runtime\n",
      "Fitting model: RandomForestMSE_BAG_L1 ... Training model for up to 149.27s of the 287.66s of remaining time.\n",
      "\t-38.4007\t = Validation score   (-root_mean_squared_error)\n",
      "\t14.64s\t = Training   runtime\n",
      "\t0.56s\t = Validation runtime\n",
      "Fitting model: CatBoost_BAG_L1 ... Training model for up to 131.4s of the 269.79s of remaining time.\n",
      "\tFitting 8 child models (S1F1 - S1F8) | Fitting with ParallelLocalFoldFittingStrategy (2 workers, per: cpus=1, gpus=0, memory=0.53%)\n",
      "\t-34.5614\t = Validation score   (-root_mean_squared_error)\n",
      "\t115.19s\t = Training   runtime\n",
      "\t0.16s\t = Validation runtime\n",
      "Fitting model: ExtraTreesMSE_BAG_L1 ... Training model for up to 12.86s of the 151.25s of remaining time.\n",
      "\t-38.4316\t = Validation score   (-root_mean_squared_error)\n",
      "\t6.88s\t = Training   runtime\n",
      "\t0.85s\t = Validation runtime\n",
      "Fitting model: NeuralNetFastAI_BAG_L1 ... Training model for up to 2.29s of the 140.69s of remaining time.\n",
      "\tFitting 8 child models (S1F1 - S1F8) | Fitting with ParallelLocalFoldFittingStrategy (2 workers, per: cpus=1, gpus=0, memory=0.44%)\n",
      "\tTime limit exceeded... Skipping NeuralNetFastAI_BAG_L1.\n",
      "2024-07-23 00:29:02,705\tERROR worker.py:406 -- Unhandled error (suppress with 'RAY_IGNORE_UNHANDLED_ERRORS=1'): \u001b[36mray::_ray_fit()\u001b[39m (pid=2355, ip=169.255.255.2)\n",
      "  File \"/opt/conda/lib/python3.10/site-packages/autogluon/core/models/ensemble/fold_fitting_strategy.py\", line 402, in _ray_fit\n",
      "    fold_model.fit(X=X_fold, y=y_fold, X_val=X_val_fold, y_val=y_val_fold, time_limit=time_limit_fold, **resources, **kwargs_fold)\n",
      "  File \"/opt/conda/lib/python3.10/site-packages/autogluon/core/models/abstract/abstract_model.py\", line 856, in fit\n",
      "    out = self._fit(**kwargs)\n",
      "  File \"/opt/conda/lib/python3.10/site-packages/autogluon/tabular/models/fastainn/tabular_nn_fastai.py\", line 332, in _fit\n",
      "    raise TimeLimitExceeded\n",
      "autogluon.core.utils.exceptions.TimeLimitExceeded\n",
      "Fitting model: WeightedEnsemble_L2 ... Training model for up to 360.0s of the 131.48s of remaining time.\n",
      "\tEnsemble Weights: {'LightGBM_BAG_L1': 0.36, 'LightGBMXT_BAG_L1': 0.28, 'CatBoost_BAG_L1': 0.2, 'RandomForestMSE_BAG_L1': 0.12, 'KNeighborsDist_BAG_L1': 0.04}\n",
      "\t-32.3433\t = Validation score   (-root_mean_squared_error)\n",
      "\t0.02s\t = Training   runtime\n",
      "\t0.0s\t = Validation runtime\n",
      "Fitting 106 L2 models ...\n",
      "Fitting model: LightGBMXT_BAG_L2 ... Training model for up to 131.37s of the 131.32s of remaining time.\n",
      "\tFitting 8 child models (S1F1 - S1F8) | Fitting with ParallelLocalFoldFittingStrategy (2 workers, per: cpus=1, gpus=0, memory=0.56%)\n",
      "\t-31.1112\t = Validation score   (-root_mean_squared_error)\n",
      "\t34.46s\t = Training   runtime\n",
      "\t1.81s\t = Validation runtime\n",
      "Fitting model: LightGBM_BAG_L2 ... Training model for up to 93.43s of the 93.39s of remaining time.\n",
      "\tFitting 8 child models (S1F1 - S1F8) | Fitting with ParallelLocalFoldFittingStrategy (2 workers, per: cpus=1, gpus=0, memory=0.60%)\n",
      "\t-30.5471\t = Validation score   (-root_mean_squared_error)\n",
      "\t25.2s\t = Training   runtime\n",
      "\t0.37s\t = Validation runtime\n",
      "Fitting model: RandomForestMSE_BAG_L2 ... Training model for up to 64.98s of the 64.94s of remaining time.\n",
      "\t-31.7791\t = Validation score   (-root_mean_squared_error)\n",
      "\t35.69s\t = Training   runtime\n",
      "\t0.62s\t = Validation runtime\n",
      "Fitting model: CatBoost_BAG_L2 ... Training model for up to 26.19s of the 26.15s of remaining time.\n",
      "\tFitting 8 child models (S1F1 - S1F8) | Fitting with ParallelLocalFoldFittingStrategy (2 workers, per: cpus=1, gpus=0, memory=0.78%)\n",
      "\t-31.2972\t = Validation score   (-root_mean_squared_error)\n",
      "\t31.25s\t = Training   runtime\n",
      "\t0.08s\t = Validation runtime\n",
      "Fitting model: WeightedEnsemble_L3 ... Training model for up to 360.0s of the -10.15s of remaining time.\n",
      "\tEnsemble Weights: {'LightGBM_BAG_L2': 0.556, 'LightGBMXT_BAG_L2': 0.278, 'CatBoost_BAG_L2': 0.111, 'CatBoost_BAG_L1': 0.056}\n",
      "\t-30.2812\t = Validation score   (-root_mean_squared_error)\n",
      "\t0.04s\t = Training   runtime\n",
      "\t0.0s\t = Validation runtime\n",
      "AutoGluon training complete, total runtime = 426.42s ... Best model: WeightedEnsemble_L3 | Estimated inference throughput: 86.9 rows/s (1361 batch size)\n",
      "TabularPredictor saved. To load, use: predictor = TabularPredictor.load(\"AutogluonModels/ag-20240723_002115\")\n"
     ]
    }
   ],
   "source": [
    "predictor_new_features = TabularPredictor(label='count',eval_metric='root_mean_squared_error',learner_kwargs={'ignored_columns': ['casual','registered']}).fit(train,presets='best_quality',time_limit=600)"
   ]
  },
  {
   "cell_type": "code",
   "execution_count": 38,
   "metadata": {
    "tags": []
   },
   "outputs": [
    {
     "name": "stderr",
     "output_type": "stream",
     "text": [
      "/opt/conda/lib/python3.10/site-packages/autogluon/core/utils/plots.py:169: UserWarning: AutoGluon summary plots cannot be created because bokeh is not installed. To see plots, please do: \"pip install bokeh==2.0.1\"\n",
      "  warnings.warn('AutoGluon summary plots cannot be created because bokeh is not installed. To see plots, please do: \"pip install bokeh==2.0.1\"')\n"
     ]
    },
    {
     "name": "stdout",
     "output_type": "stream",
     "text": [
      "*** Summary of fit() ***\n",
      "Estimated performance of each model:\n",
      "                     model   score_val              eval_metric  pred_time_val    fit_time  pred_time_val_marginal  fit_time_marginal  stack_level  can_infer  fit_order\n",
      "0      WeightedEnsemble_L3  -30.281212  root_mean_squared_error      16.981292  344.747175                0.000721           0.040091            3       True         13\n",
      "1          LightGBM_BAG_L2  -30.547149  root_mean_squared_error      15.083699  278.995859                0.367743          25.196407            2       True         10\n",
      "2        LightGBMXT_BAG_L2  -31.111185  root_mean_squared_error      16.527938  288.263829                1.811981          34.464377            2       True          9\n",
      "3          CatBoost_BAG_L2  -31.297172  root_mean_squared_error      14.800847  285.046301                0.084891          31.246848            2       True         12\n",
      "4   RandomForestMSE_BAG_L2  -31.779110  root_mean_squared_error      15.331273  289.490481                0.615317          35.691028            2       True         11\n",
      "5      WeightedEnsemble_L2  -32.343271  root_mean_squared_error      13.823711  246.905417                0.000694           0.023071            2       True          8\n",
      "6          LightGBM_BAG_L1  -33.916921  root_mean_squared_error       2.807391   37.331525                2.807391          37.331525            1       True          4\n",
      "7          CatBoost_BAG_L1  -34.561448  root_mean_squared_error       0.159508  115.185583                0.159508         115.185583            1       True          6\n",
      "8        LightGBMXT_BAG_L1  -34.649592  root_mean_squared_error      10.249650   79.701898               10.249650          79.701898            1       True          3\n",
      "9   RandomForestMSE_BAG_L1  -38.400743  root_mean_squared_error       0.561741   14.635039                0.561741          14.635039            1       True          5\n",
      "10    ExtraTreesMSE_BAG_L1  -38.431611  root_mean_squared_error       0.847325    6.882539                0.847325           6.882539            1       True          7\n",
      "11   KNeighborsDist_BAG_L1  -84.125061  root_mean_squared_error       0.044728    0.028300                0.044728           0.028300            1       True          2\n",
      "12   KNeighborsUnif_BAG_L1 -101.546199  root_mean_squared_error       0.045614    0.034568                0.045614           0.034568            1       True          1\n",
      "Number of models trained: 13\n",
      "Types of models trained:\n",
      "{'StackerEnsembleModel_RF', 'WeightedEnsembleModel', 'StackerEnsembleModel_LGB', 'StackerEnsembleModel_CatBoost', 'StackerEnsembleModel_XT', 'StackerEnsembleModel_KNN'}\n",
      "Bagging used: True  (with 8 folds)\n",
      "Multi-layer stack-ensembling used: True  (with 3 levels)\n",
      "Feature Metadata (Processed):\n",
      "(raw dtype, special dtypes):\n",
      "('category', [])             : 2 | ['season', 'weather']\n",
      "('float', [])                : 3 | ['temp', 'atemp', 'windspeed']\n",
      "('int', [])                  : 4 | ['humidity', 'hour', 'month', 'day']\n",
      "('int', ['bool'])            : 2 | ['holiday', 'workingday']\n",
      "('int', ['datetime_as_int']) : 3 | ['datetime', 'datetime.year', 'datetime.dayofweek']\n",
      "*** End of fit() summary ***\n"
     ]
    },
    {
     "data": {
      "text/plain": [
       "0    13.603956\n",
       "1     9.209279\n",
       "2     8.420923\n",
       "3     7.365537\n",
       "4     6.321885\n",
       "Name: count, dtype: float32"
      ]
     },
     "execution_count": 38,
     "metadata": {},
     "output_type": "execute_result"
    }
   ],
   "source": [
    "predictor_new_features.fit_summary()"
   ]
  },
  {
   "cell_type": "code",
   "execution_count": 39,
   "metadata": {
    "tags": []
   },
   "outputs": [
    {
     "data": {
      "text/plain": [
       "0    13.603956\n",
       "1     9.209279\n",
       "2     8.420923\n",
       "3     7.365537\n",
       "4     6.321885\n",
       "Name: count, dtype: float32"
      ]
     },
     "execution_count": 39,
     "metadata": {},
     "output_type": "execute_result"
    }
   ],
   "source": [
    "predictions = predictor_new_features.predict(test)\n",
    "predictions.head()"
   ]
  },
  {
   "cell_type": "code",
   "execution_count": 40,
   "metadata": {
    "tags": []
   },
   "outputs": [
    {
     "name": "stdout",
     "output_type": "stream",
     "text": [
      "0\n"
     ]
    }
   ],
   "source": [
    "print((predictions<0).sum())\n",
    "predictions[predictions<0] = 0"
   ]
  },
  {
   "cell_type": "code",
   "execution_count": 41,
   "metadata": {
    "tags": []
   },
   "outputs": [],
   "source": [
    "# Same submitting predictions\n",
    "submission_new_features = pd.read_csv('sampleSubmission.csv',parse_dates=['datetime'])\n",
    "submission_new_features[\"count\"] = predictions\n",
    "submission_new_features.to_csv(\"submission_new_features.csv\", index=False)"
   ]
  },
  {
   "cell_type": "code",
   "execution_count": 42,
   "metadata": {
    "tags": []
   },
   "outputs": [
    {
     "name": "stdout",
     "output_type": "stream",
     "text": [
      "100%|█████████████████████████████████████████| 188k/188k [00:00<00:00, 771kB/s]\n",
      "Successfully submitted to Bike Sharing Demand"
     ]
    }
   ],
   "source": [
    "!kaggle competitions submit -c bike-sharing-demand -f submission_new_features.csv -m \"new features\""
   ]
  },
  {
   "cell_type": "code",
   "execution_count": 43,
   "metadata": {
    "tags": []
   },
   "outputs": [
    {
     "name": "stdout",
     "output_type": "stream",
     "text": [
      "fileName                     date                 description           status    publicScore  privateScore  \n",
      "---------------------------  -------------------  --------------------  --------  -----------  ------------  \n",
      "submission_new_features.csv  2024-07-23 00:33:38  new features          complete  0.65116      0.65116       \n",
      "submission.csv               2024-07-23 00:13:19  first raw submission  complete  1.80255      1.80255       \n",
      "submission.csv               2024-07-23 00:08:47  first raw submission  complete  1.80255      1.80255       \n",
      "submission_new_features.csv  2024-05-06 23:00:59  new features          complete  1.80175      1.80175       \n"
     ]
    }
   ],
   "source": [
    "!kaggle competitions submissions -c bike-sharing-demand | tail -n +1 | head -n 6"
   ]
  },
  {
   "cell_type": "markdown",
   "metadata": {},
   "source": [
    "#### New Score of 0.65116"
   ]
  },
  {
   "cell_type": "markdown",
   "metadata": {},
   "source": [
    "## Step 6: Hyper parameter optimization\n",
    "* There are many options for hyper parameter optimization.\n",
    "* Options are to change the AutoGluon higher level parameters or the individual model hyperparameters.\n",
    "* The hyperparameters of the models themselves that are in AutoGluon. Those need the `hyperparameter` and `hyperparameter_tune_kwargs` arguments."
   ]
  },
  {
   "cell_type": "code",
   "execution_count": 44,
   "metadata": {
    "tags": []
   },
   "outputs": [],
   "source": [
    "hyperparameters = {\n",
    "    'GBM': {'num_boost_round': 100, 'learning_rate': 0.1, 'num_leaves': 31},\n",
    "    'XT': {'n_estimators': 100, 'max_depth': None},\n",
    "    'XGB': {'n_estimators': 100, 'learning_rate': 0.1, 'max_depth': 6},\n",
    "    'RF': {'n_estimators': 100, 'max_depth': None},\n",
    "    'KNN': {'n_neighbors': 5, 'weights': 'uniform'}\n",
    "}"
   ]
  },
  {
   "cell_type": "code",
   "execution_count": 45,
   "metadata": {
    "scrolled": true,
    "tags": []
   },
   "outputs": [
    {
     "name": "stderr",
     "output_type": "stream",
     "text": [
      "No path specified. Models will be saved in: \"AutogluonModels/ag-20240723_004750\"\n",
      "Verbosity: 2 (Standard Logging)\n",
      "=================== System Info ===================\n",
      "AutoGluon Version:  1.1.1\n",
      "Python Version:     3.10.6\n",
      "Operating System:   Linux\n",
      "Platform Machine:   x86_64\n",
      "Platform Version:   #1 SMP Tue Jun 18 14:00:06 UTC 2024\n",
      "CPU Count:          2\n",
      "Memory Avail:       1.60 GB / 3.76 GB (42.7%)\n",
      "Disk Space Avail:   8589934586.58 GB / 8589934592.00 GB (100.0%)\n",
      "===================================================\n",
      "Presets specified: ['best_quality']\n",
      "Setting dynamic_stacking from 'auto' to True. Reason: Enable dynamic_stacking when use_bag_holdout is disabled. (use_bag_holdout=False)\n",
      "Stack configuration (auto_stack=True): num_stack_levels=1, num_bag_folds=8, num_bag_sets=1\n",
      "DyStack is enabled (dynamic_stacking=True). AutoGluon will try to determine whether the input data is affected by stacked overfitting and enable or disable stacking as a consequence.\n",
      "\tThis is used to identify the optimal `num_stack_levels` value. Copies of AutoGluon will be fit on subsets of the data. Then holdout validation data is used to detect stacked overfitting.\n",
      "\tRunning DyStack for up to 150s of the 600s of remaining time (25%).\n",
      "\t\tContext path: \"AutogluonModels/ag-20240723_004750/ds_sub_fit/sub_fit_ho\"\n",
      "Leaderboard on holdout data (DyStack):\n",
      "                  model  score_holdout   score_val              eval_metric  pred_time_test  pred_time_val   fit_time  pred_time_test_marginal  pred_time_val_marginal  fit_time_marginal  stack_level  can_infer  fit_order\n",
      "0       LightGBM_BAG_L2     -33.303838  -34.698515  root_mean_squared_error        2.400046       0.774273  55.996744                 0.122194                0.084503          17.280124            2       True          7\n",
      "1   WeightedEnsemble_L3     -33.374387  -34.398135  root_mean_squared_error        2.755022       1.124313  72.428709                 0.005796                0.000781           0.040327            3       True         11\n",
      "2        XGBoost_BAG_L2     -33.525293  -35.028060  root_mean_squared_error        2.458763       0.853635  52.385231                 0.180911                0.163864          13.668610            2       True         10\n",
      "3     ExtraTrees_BAG_L2     -34.065571  -35.488027  root_mean_squared_error        2.446120       0.875164  41.439647                 0.168268                0.185394           2.723027            2       True          9\n",
      "4   RandomForest_BAG_L2     -34.371985  -36.146671  root_mean_squared_error        2.417501       0.880113  48.141095                 0.139650                0.190343           9.424474            2       True          8\n",
      "5   WeightedEnsemble_L2     -35.648327  -36.072831  root_mean_squared_error        2.230182       0.651126  38.754501                 0.006912                0.000808           0.053956            2       True          6\n",
      "6       LightGBM_BAG_L1     -35.894143  -37.470858  root_mean_squared_error        1.172276       0.114334  17.748145                 1.172276                0.114334          17.748145            1       True          2\n",
      "7        XGBoost_BAG_L1     -36.855933  -38.915547  root_mean_squared_error        0.241267       0.164705  13.828738                 0.241267                0.164705          13.828738            1       True          5\n",
      "8     ExtraTrees_BAG_L1     -37.777849  -40.261809  root_mean_squared_error        0.396179       0.184917   2.045956                 0.396179                0.184917           2.045956            1       True          4\n",
      "9   RandomForest_BAG_L1     -40.339702  -39.353654  root_mean_squared_error        0.413548       0.186361   5.077706                 0.413548                0.186361           5.077706            1       True          3\n",
      "10    KNeighbors_BAG_L1    -109.161488 -107.445008  root_mean_squared_error        0.054581       0.039453   0.016075                 0.054581                0.039453           0.016075            1       True          1\n",
      "\t1\t = Optimal   num_stack_levels (Stacked Overfitting Occurred: False)\n",
      "\t108s\t = DyStack   runtime |\t492s\t = Remaining runtime\n",
      "Starting main fit with num_stack_levels=1.\n",
      "\tFor future fit calls on this dataset, you can skip DyStack to save time: `predictor.fit(..., dynamic_stacking=False, num_stack_levels=1)`\n",
      "Beginning AutoGluon training ... Time limit = 492s\n",
      "AutoGluon will save models to \"AutogluonModels/ag-20240723_004750\"\n",
      "Train Data Rows:    10886\n",
      "Train Data Columns: 14\n",
      "Label Column:       count\n",
      "Problem Type:       regression\n",
      "Preprocessing data ...\n",
      "Using Feature Generators to preprocess the data ...\n",
      "Dropping user-specified ignored columns: ['casual', 'registered']\n",
      "Fitting AutoMLPipelineFeatureGenerator...\n",
      "\tAvailable Memory:                    1223.67 MB\n",
      "\tTrain Data (Original)  Memory Usage: 0.73 MB (0.1% of available memory)\n",
      "\tInferring data type of each feature based on column values. Set feature_metadata_in to manually specify special dtypes of the features.\n",
      "\tStage 1 Generators:\n",
      "\t\tFitting AsTypeFeatureGenerator...\n",
      "\t\t\tNote: Converting 2 features to boolean dtype as they only contain 2 unique values.\n",
      "\tStage 2 Generators:\n",
      "\t\tFitting FillNaFeatureGenerator...\n",
      "\tStage 3 Generators:\n",
      "\t\tFitting IdentityFeatureGenerator...\n",
      "\t\tFitting CategoryFeatureGenerator...\n",
      "\t\t\tFitting CategoryMemoryMinimizeFeatureGenerator...\n",
      "\t\tFitting DatetimeFeatureGenerator...\n",
      "\tStage 4 Generators:\n",
      "\t\tFitting DropUniqueFeatureGenerator...\n",
      "\tStage 5 Generators:\n",
      "\t\tFitting DropDuplicatesFeatureGenerator...\n",
      "\tTypes of features in original data (raw dtype, special dtypes):\n",
      "\t\t('category', []) : 2 | ['season', 'weather']\n",
      "\t\t('datetime', []) : 1 | ['datetime']\n",
      "\t\t('float', [])    : 3 | ['temp', 'atemp', 'windspeed']\n",
      "\t\t('int', [])      : 6 | ['holiday', 'workingday', 'humidity', 'hour', 'month', ...]\n",
      "\tTypes of features in processed data (raw dtype, special dtypes):\n",
      "\t\t('category', [])             : 2 | ['season', 'weather']\n",
      "\t\t('float', [])                : 3 | ['temp', 'atemp', 'windspeed']\n",
      "\t\t('int', [])                  : 4 | ['humidity', 'hour', 'month', 'day']\n",
      "\t\t('int', ['bool'])            : 2 | ['holiday', 'workingday']\n",
      "\t\t('int', ['datetime_as_int']) : 3 | ['datetime', 'datetime.year', 'datetime.dayofweek']\n",
      "\t0.7s = Fit runtime\n",
      "\t12 features in original data used to generate 14 features in processed data.\n",
      "\tTrain Data (Processed) Memory Usage: 0.75 MB (0.1% of available memory)\n",
      "Data preprocessing and feature engineering runtime = 0.78s ...\n",
      "AutoGluon will gauge predictive performance using evaluation metric: 'root_mean_squared_error'\n",
      "\tThis metric's sign has been flipped to adhere to being higher_is_better. The metric score can be multiplied by -1 to get the metric value.\n",
      "\tTo change this, specify the eval_metric parameter of Predictor()\n",
      "User-specified model hyperparameters to be fit:\n",
      "{\n",
      "\t'GBM': {'num_boost_round': 100, 'learning_rate': 0.1, 'num_leaves': 31},\n",
      "\t'XT': {'n_estimators': 100, 'max_depth': None},\n",
      "\t'XGB': {'n_estimators': 100, 'learning_rate': 0.1, 'max_depth': 6},\n",
      "\t'RF': {'n_estimators': 100, 'max_depth': None},\n",
      "\t'KNN': {'n_neighbors': 5, 'weights': 'uniform'},\n",
      "}\n",
      "AutoGluon will fit 2 stack levels (L1 to L2) ...\n",
      "Fitting 5 L1 models ...\n",
      "Fitting model: KNeighbors_BAG_L1 ... Training model for up to 327.68s of the 491.64s of remaining time.\n",
      "\t-101.5462\t = Validation score   (-root_mean_squared_error)\n",
      "\t0.06s\t = Training   runtime\n",
      "\t0.09s\t = Validation runtime\n",
      "Fitting model: LightGBM_BAG_L1 ... Training model for up to 327.37s of the 491.34s of remaining time.\n",
      "\tFitting 8 child models (S1F1 - S1F8) | Fitting with ParallelLocalFoldFittingStrategy (2 workers, per: cpus=1, gpus=0, memory=0.62%)\n",
      "\t-37.217\t = Validation score   (-root_mean_squared_error)\n",
      "\t16.81s\t = Training   runtime\n",
      "\t0.13s\t = Validation runtime\n",
      "Fitting model: RandomForest_BAG_L1 ... Training model for up to 307.22s of the 471.18s of remaining time.\n",
      "\t-38.9448\t = Validation score   (-root_mean_squared_error)\n",
      "\t5.06s\t = Training   runtime\n",
      "\t0.25s\t = Validation runtime\n",
      "Fitting model: ExtraTrees_BAG_L1 ... Training model for up to 301.12s of the 465.08s of remaining time.\n",
      "\t-39.3879\t = Validation score   (-root_mean_squared_error)\n",
      "\t2.13s\t = Training   runtime\n",
      "\t0.19s\t = Validation runtime\n",
      "Fitting model: XGBoost_BAG_L1 ... Training model for up to 298.06s of the 462.02s of remaining time.\n",
      "\tFitting 8 child models (S1F1 - S1F8) | Fitting with ParallelLocalFoldFittingStrategy (2 workers, per: cpus=1, gpus=0, memory=0.67%)\n",
      "\t-38.0297\t = Validation score   (-root_mean_squared_error)\n",
      "\t12.7s\t = Training   runtime\n",
      "\t0.19s\t = Validation runtime\n",
      "Fitting model: WeightedEnsemble_L2 ... Training model for up to 360.0s of the 446.54s of remaining time.\n",
      "\tEnsemble Weights: {'LightGBM_BAG_L1': 0.333, 'XGBoost_BAG_L1': 0.286, 'RandomForest_BAG_L1': 0.238, 'ExtraTrees_BAG_L1': 0.143}\n",
      "\t-35.5545\t = Validation score   (-root_mean_squared_error)\n",
      "\t0.02s\t = Training   runtime\n",
      "\t0.0s\t = Validation runtime\n",
      "Fitting 4 L2 models ...\n",
      "Fitting model: LightGBM_BAG_L2 ... Training model for up to 446.44s of the 446.43s of remaining time.\n",
      "\tFitting 8 child models (S1F1 - S1F8) | Fitting with ParallelLocalFoldFittingStrategy (2 workers, per: cpus=1, gpus=0, memory=0.66%)\n",
      "\t-33.5279\t = Validation score   (-root_mean_squared_error)\n",
      "\t17.91s\t = Training   runtime\n",
      "\t0.13s\t = Validation runtime\n",
      "Fitting model: RandomForest_BAG_L2 ... Training model for up to 425.24s of the 425.22s of remaining time.\n",
      "\t-34.9049\t = Validation score   (-root_mean_squared_error)\n",
      "\t10.43s\t = Training   runtime\n",
      "\t0.22s\t = Validation runtime\n",
      "Fitting model: ExtraTrees_BAG_L2 ... Training model for up to 413.94s of the 413.93s of remaining time.\n",
      "\t-34.7545\t = Validation score   (-root_mean_squared_error)\n",
      "\t3.01s\t = Training   runtime\n",
      "\t0.21s\t = Validation runtime\n",
      "Fitting model: XGBoost_BAG_L2 ... Training model for up to 410.03s of the 410.02s of remaining time.\n",
      "\tFitting 8 child models (S1F1 - S1F8) | Fitting with ParallelLocalFoldFittingStrategy (2 workers, per: cpus=1, gpus=0, memory=0.89%)\n",
      "\t-34.0529\t = Validation score   (-root_mean_squared_error)\n",
      "\t13.85s\t = Training   runtime\n",
      "\t0.23s\t = Validation runtime\n",
      "Fitting model: WeightedEnsemble_L3 ... Training model for up to 360.0s of the 393.23s of remaining time.\n",
      "\tEnsemble Weights: {'LightGBM_BAG_L2': 0.625, 'XGBoost_BAG_L2': 0.208, 'ExtraTrees_BAG_L2': 0.125, 'RandomForest_BAG_L2': 0.042}\n",
      "\t-33.3696\t = Validation score   (-root_mean_squared_error)\n",
      "\t0.04s\t = Training   runtime\n",
      "\t0.0s\t = Validation runtime\n",
      "AutoGluon training complete, total runtime = 99.45s ... Best model: WeightedEnsemble_L3 | Estimated inference throughput: 1690.5 rows/s (1361 batch size)\n",
      "TabularPredictor saved. To load, use: predictor = TabularPredictor.load(\"AutogluonModels/ag-20240723_004750\")\n"
     ]
    }
   ],
   "source": [
    "predictor_new_hpo = TabularPredictor(label='count',eval_metric='root_mean_squared_error',learner_kwargs={'ignored_columns': ['casual','registered']}).fit(\n",
    "    train,\n",
    "    presets='best_quality',\n",
    "    time_limit=600,\n",
    "    hyperparameters=hyperparameters)"
   ]
  },
  {
   "cell_type": "code",
   "execution_count": 46,
   "metadata": {},
   "outputs": [
    {
     "name": "stdout",
     "output_type": "stream",
     "text": [
      "*** Summary of fit() ***\n",
      "Estimated performance of each model:\n",
      "                  model   score_val              eval_metric  pred_time_val   fit_time  pred_time_val_marginal  fit_time_marginal  stack_level  can_infer  fit_order\n",
      "0   WeightedEnsemble_L3  -33.369648  root_mean_squared_error       1.639034  82.014141                0.000811           0.041636            3       True         11\n",
      "1       LightGBM_BAG_L2  -33.527911  root_mean_squared_error       0.987290  54.684027                0.133319          17.911023            2       True          7\n",
      "2        XGBoost_BAG_L2  -34.052901  root_mean_squared_error       1.081250  50.619161                0.227279          13.846157            2       True         10\n",
      "3     ExtraTrees_BAG_L2  -34.754475  root_mean_squared_error       1.060878  39.781672                0.206907           3.008668            2       True          9\n",
      "4   RandomForest_BAG_L2  -34.904878  root_mean_squared_error       1.070718  47.206657                0.216747          10.433653            2       True          8\n",
      "5   WeightedEnsemble_L2  -35.554482  root_mean_squared_error       0.764510  36.732498                0.000837           0.021626            2       True          6\n",
      "6       LightGBM_BAG_L1  -37.216986  root_mean_squared_error       0.131514  16.814384                0.131514          16.814384            1       True          2\n",
      "7        XGBoost_BAG_L1  -38.029693  root_mean_squared_error       0.193829  12.702239                0.193829          12.702239            1       True          5\n",
      "8   RandomForest_BAG_L1  -38.944827  root_mean_squared_error       0.250405   5.061361                0.250405           5.061361            1       True          3\n",
      "9     ExtraTrees_BAG_L1  -39.387887  root_mean_squared_error       0.187925   2.132888                0.187925           2.132888            1       True          4\n",
      "10    KNeighbors_BAG_L1 -101.546199  root_mean_squared_error       0.090298   0.062133                0.090298           0.062133            1       True          1\n",
      "Number of models trained: 11\n",
      "Types of models trained:\n",
      "{'StackerEnsembleModel_RF', 'WeightedEnsembleModel', 'StackerEnsembleModel_LGB', 'StackerEnsembleModel_XT', 'StackerEnsembleModel_KNN', 'StackerEnsembleModel_XGBoost'}\n",
      "Bagging used: True  (with 8 folds)\n",
      "Multi-layer stack-ensembling used: True  (with 3 levels)\n",
      "Feature Metadata (Processed):\n",
      "(raw dtype, special dtypes):\n",
      "('category', [])             : 2 | ['season', 'weather']\n",
      "('float', [])                : 3 | ['temp', 'atemp', 'windspeed']\n",
      "('int', [])                  : 4 | ['humidity', 'hour', 'month', 'day']\n",
      "('int', ['bool'])            : 2 | ['holiday', 'workingday']\n",
      "('int', ['datetime_as_int']) : 3 | ['datetime', 'datetime.year', 'datetime.dayofweek']\n",
      "*** End of fit() summary ***\n"
     ]
    },
    {
     "name": "stderr",
     "output_type": "stream",
     "text": [
      "/opt/conda/lib/python3.10/site-packages/autogluon/core/utils/plots.py:169: UserWarning: AutoGluon summary plots cannot be created because bokeh is not installed. To see plots, please do: \"pip install bokeh==2.0.1\"\n",
      "  warnings.warn('AutoGluon summary plots cannot be created because bokeh is not installed. To see plots, please do: \"pip install bokeh==2.0.1\"')\n"
     ]
    },
    {
     "data": {
      "text/plain": [
       "{'model_types': {'KNeighbors_BAG_L1': 'StackerEnsembleModel_KNN',\n",
       "  'LightGBM_BAG_L1': 'StackerEnsembleModel_LGB',\n",
       "  'RandomForest_BAG_L1': 'StackerEnsembleModel_RF',\n",
       "  'ExtraTrees_BAG_L1': 'StackerEnsembleModel_XT',\n",
       "  'XGBoost_BAG_L1': 'StackerEnsembleModel_XGBoost',\n",
       "  'WeightedEnsemble_L2': 'WeightedEnsembleModel',\n",
       "  'LightGBM_BAG_L2': 'StackerEnsembleModel_LGB',\n",
       "  'RandomForest_BAG_L2': 'StackerEnsembleModel_RF',\n",
       "  'ExtraTrees_BAG_L2': 'StackerEnsembleModel_XT',\n",
       "  'XGBoost_BAG_L2': 'StackerEnsembleModel_XGBoost',\n",
       "  'WeightedEnsemble_L3': 'WeightedEnsembleModel'},\n",
       " 'model_performance': {'KNeighbors_BAG_L1': -101.54619908446061,\n",
       "  'LightGBM_BAG_L1': -37.21698626585365,\n",
       "  'RandomForest_BAG_L1': -38.944827055113336,\n",
       "  'ExtraTrees_BAG_L1': -39.38788671340839,\n",
       "  'XGBoost_BAG_L1': -38.0296931058879,\n",
       "  'WeightedEnsemble_L2': -35.554481500698714,\n",
       "  'LightGBM_BAG_L2': -33.52791142545627,\n",
       "  'RandomForest_BAG_L2': -34.90487813686588,\n",
       "  'ExtraTrees_BAG_L2': -34.754474818100675,\n",
       "  'XGBoost_BAG_L2': -34.05290112877651,\n",
       "  'WeightedEnsemble_L3': -33.36964807013572},\n",
       " 'model_best': 'WeightedEnsemble_L3',\n",
       " 'model_paths': {'KNeighbors_BAG_L1': ['KNeighbors_BAG_L1'],\n",
       "  'LightGBM_BAG_L1': ['LightGBM_BAG_L1'],\n",
       "  'RandomForest_BAG_L1': ['RandomForest_BAG_L1'],\n",
       "  'ExtraTrees_BAG_L1': ['ExtraTrees_BAG_L1'],\n",
       "  'XGBoost_BAG_L1': ['XGBoost_BAG_L1'],\n",
       "  'WeightedEnsemble_L2': ['WeightedEnsemble_L2'],\n",
       "  'LightGBM_BAG_L2': ['LightGBM_BAG_L2'],\n",
       "  'RandomForest_BAG_L2': ['RandomForest_BAG_L2'],\n",
       "  'ExtraTrees_BAG_L2': ['ExtraTrees_BAG_L2'],\n",
       "  'XGBoost_BAG_L2': ['XGBoost_BAG_L2'],\n",
       "  'WeightedEnsemble_L3': ['WeightedEnsemble_L3']},\n",
       " 'model_fit_times': {'KNeighbors_BAG_L1': 0.06213259696960449,\n",
       "  'LightGBM_BAG_L1': 16.81438446044922,\n",
       "  'RandomForest_BAG_L1': 5.061360597610474,\n",
       "  'ExtraTrees_BAG_L1': 2.132887601852417,\n",
       "  'XGBoost_BAG_L1': 12.702239036560059,\n",
       "  'WeightedEnsemble_L2': 0.021625995635986328,\n",
       "  'LightGBM_BAG_L2': 17.911022663116455,\n",
       "  'RandomForest_BAG_L2': 10.433652877807617,\n",
       "  'ExtraTrees_BAG_L2': 3.0086679458618164,\n",
       "  'XGBoost_BAG_L2': 13.84615707397461,\n",
       "  'WeightedEnsemble_L3': 0.041635990142822266},\n",
       " 'model_pred_times': {'KNeighbors_BAG_L1': 0.09029793739318848,\n",
       "  'LightGBM_BAG_L1': 0.1315140724182129,\n",
       "  'RandomForest_BAG_L1': 0.25040459632873535,\n",
       "  'ExtraTrees_BAG_L1': 0.1879253387451172,\n",
       "  'XGBoost_BAG_L1': 0.19382882118225098,\n",
       "  'WeightedEnsemble_L2': 0.0008370876312255859,\n",
       "  'LightGBM_BAG_L2': 0.13331913948059082,\n",
       "  'RandomForest_BAG_L2': 0.21674728393554688,\n",
       "  'ExtraTrees_BAG_L2': 0.20690679550170898,\n",
       "  'XGBoost_BAG_L2': 0.2272789478302002,\n",
       "  'WeightedEnsemble_L3': 0.0008108615875244141},\n",
       " 'num_bag_folds': 8,\n",
       " 'max_stack_level': 3,\n",
       " 'model_hyperparams': {'KNeighbors_BAG_L1': {'use_orig_features': True,\n",
       "   'max_base_models': 25,\n",
       "   'max_base_models_per_type': 5,\n",
       "   'save_bag_folds': True,\n",
       "   'use_child_oof': True},\n",
       "  'LightGBM_BAG_L1': {'use_orig_features': True,\n",
       "   'max_base_models': 25,\n",
       "   'max_base_models_per_type': 5,\n",
       "   'save_bag_folds': True},\n",
       "  'RandomForest_BAG_L1': {'use_orig_features': True,\n",
       "   'max_base_models': 25,\n",
       "   'max_base_models_per_type': 5,\n",
       "   'save_bag_folds': True,\n",
       "   'use_child_oof': True},\n",
       "  'ExtraTrees_BAG_L1': {'use_orig_features': True,\n",
       "   'max_base_models': 25,\n",
       "   'max_base_models_per_type': 5,\n",
       "   'save_bag_folds': True,\n",
       "   'use_child_oof': True},\n",
       "  'XGBoost_BAG_L1': {'use_orig_features': True,\n",
       "   'max_base_models': 25,\n",
       "   'max_base_models_per_type': 5,\n",
       "   'save_bag_folds': True},\n",
       "  'WeightedEnsemble_L2': {'use_orig_features': False,\n",
       "   'max_base_models': 25,\n",
       "   'max_base_models_per_type': 5,\n",
       "   'save_bag_folds': True},\n",
       "  'LightGBM_BAG_L2': {'use_orig_features': True,\n",
       "   'max_base_models': 25,\n",
       "   'max_base_models_per_type': 5,\n",
       "   'save_bag_folds': True},\n",
       "  'RandomForest_BAG_L2': {'use_orig_features': True,\n",
       "   'max_base_models': 25,\n",
       "   'max_base_models_per_type': 5,\n",
       "   'save_bag_folds': True,\n",
       "   'use_child_oof': True},\n",
       "  'ExtraTrees_BAG_L2': {'use_orig_features': True,\n",
       "   'max_base_models': 25,\n",
       "   'max_base_models_per_type': 5,\n",
       "   'save_bag_folds': True,\n",
       "   'use_child_oof': True},\n",
       "  'XGBoost_BAG_L2': {'use_orig_features': True,\n",
       "   'max_base_models': 25,\n",
       "   'max_base_models_per_type': 5,\n",
       "   'save_bag_folds': True},\n",
       "  'WeightedEnsemble_L3': {'use_orig_features': False,\n",
       "   'max_base_models': 25,\n",
       "   'max_base_models_per_type': 5,\n",
       "   'save_bag_folds': True}},\n",
       " 'leaderboard':                   model   score_val              eval_metric  pred_time_val  \\\n",
       " 0   WeightedEnsemble_L3  -33.369648  root_mean_squared_error       1.639034   \n",
       " 1       LightGBM_BAG_L2  -33.527911  root_mean_squared_error       0.987290   \n",
       " 2        XGBoost_BAG_L2  -34.052901  root_mean_squared_error       1.081250   \n",
       " 3     ExtraTrees_BAG_L2  -34.754475  root_mean_squared_error       1.060878   \n",
       " 4   RandomForest_BAG_L2  -34.904878  root_mean_squared_error       1.070718   \n",
       " 5   WeightedEnsemble_L2  -35.554482  root_mean_squared_error       0.764510   \n",
       " 6       LightGBM_BAG_L1  -37.216986  root_mean_squared_error       0.131514   \n",
       " 7        XGBoost_BAG_L1  -38.029693  root_mean_squared_error       0.193829   \n",
       " 8   RandomForest_BAG_L1  -38.944827  root_mean_squared_error       0.250405   \n",
       " 9     ExtraTrees_BAG_L1  -39.387887  root_mean_squared_error       0.187925   \n",
       " 10    KNeighbors_BAG_L1 -101.546199  root_mean_squared_error       0.090298   \n",
       " \n",
       "      fit_time  pred_time_val_marginal  fit_time_marginal  stack_level  \\\n",
       " 0   82.014141                0.000811           0.041636            3   \n",
       " 1   54.684027                0.133319          17.911023            2   \n",
       " 2   50.619161                0.227279          13.846157            2   \n",
       " 3   39.781672                0.206907           3.008668            2   \n",
       " 4   47.206657                0.216747          10.433653            2   \n",
       " 5   36.732498                0.000837           0.021626            2   \n",
       " 6   16.814384                0.131514          16.814384            1   \n",
       " 7   12.702239                0.193829          12.702239            1   \n",
       " 8    5.061361                0.250405           5.061361            1   \n",
       " 9    2.132888                0.187925           2.132888            1   \n",
       " 10   0.062133                0.090298           0.062133            1   \n",
       " \n",
       "     can_infer  fit_order  \n",
       " 0        True         11  \n",
       " 1        True          7  \n",
       " 2        True         10  \n",
       " 3        True          9  \n",
       " 4        True          8  \n",
       " 5        True          6  \n",
       " 6        True          2  \n",
       " 7        True          5  \n",
       " 8        True          3  \n",
       " 9        True          4  \n",
       " 10       True          1  }"
      ]
     },
     "execution_count": 46,
     "metadata": {},
     "output_type": "execute_result"
    }
   ],
   "source": [
    "predictor_new_hpo.fit_summary()"
   ]
  },
  {
   "cell_type": "code",
   "execution_count": 47,
   "metadata": {},
   "outputs": [
    {
     "name": "stdout",
     "output_type": "stream",
     "text": [
      "0\n"
     ]
    }
   ],
   "source": [
    "# set to 0\n",
    "print((predictions<0).sum())\n",
    "predictions[predictions<0] = 0"
   ]
  },
  {
   "cell_type": "code",
   "execution_count": 48,
   "metadata": {
    "tags": []
   },
   "outputs": [
    {
     "data": {
      "text/plain": [
       "0    14.741365\n",
       "1    10.126247\n",
       "2     9.070167\n",
       "3     8.191153\n",
       "4     7.305253\n",
       "Name: count, dtype: float32"
      ]
     },
     "execution_count": 48,
     "metadata": {},
     "output_type": "execute_result"
    }
   ],
   "source": [
    "predictions = predictor_new_hpo.predict(test)\n",
    "predictions.head()"
   ]
  },
  {
   "cell_type": "code",
   "execution_count": 49,
   "metadata": {},
   "outputs": [],
   "source": [
    "# Same submitting predictions\n",
    "submission_new_hpo = pd.read_csv('sampleSubmission.csv',parse_dates=['datetime'])\n",
    "submission_new_hpo[\"count\"] = predictions\n",
    "submission_new_hpo.to_csv(\"submission_new_hpo.csv\", index=False)"
   ]
  },
  {
   "cell_type": "code",
   "execution_count": 50,
   "metadata": {},
   "outputs": [
    {
     "name": "stdout",
     "output_type": "stream",
     "text": [
      "100%|█████████████████████████████████████████| 188k/188k [00:00<00:00, 776kB/s]\n",
      "Successfully submitted to Bike Sharing Demand"
     ]
    }
   ],
   "source": [
    "!kaggle competitions submit -c bike-sharing-demand -f submission_new_hpo.csv -m \"new features with hyperparameters\""
   ]
  },
  {
   "cell_type": "code",
   "execution_count": 51,
   "metadata": {},
   "outputs": [
    {
     "name": "stdout",
     "output_type": "stream",
     "text": [
      "fileName                     date                 description                        status    publicScore  privateScore  \n",
      "---------------------------  -------------------  ---------------------------------  --------  -----------  ------------  \n",
      "submission_new_hpo.csv       2024-07-23 00:51:21  new features with hyperparameters  complete  0.55005      0.55005       \n",
      "submission_new_features.csv  2024-07-23 00:33:38  new features                       complete  0.65116      0.65116       \n",
      "submission.csv               2024-07-23 00:13:19  first raw submission               complete  1.80255      1.80255       \n",
      "submission.csv               2024-07-23 00:08:47  first raw submission               complete  1.80255      1.80255       \n"
     ]
    }
   ],
   "source": [
    "!kaggle competitions submissions -c bike-sharing-demand | tail -n +1 | head -n 6"
   ]
  },
  {
   "cell_type": "markdown",
   "metadata": {},
   "source": [
    "#### New Score of 0.55005"
   ]
  },
  {
   "cell_type": "markdown",
   "metadata": {},
   "source": [
    "## Step 7: Write a Report\n",
    "### Refer to the markdown file for the full report\n",
    "### Creating plots and table for report"
   ]
  },
  {
   "cell_type": "code",
   "execution_count": 54,
   "metadata": {},
   "outputs": [
    {
     "data": {
      "image/png": "[encoded data removed]",
      "text/plain": [
       "<Figure size 800x600 with 1 Axes>"
      ]
     },
     "metadata": {},
     "output_type": "display_data"
    }
   ],
   "source": [
    "# Taking the top model score from each training run and creating a line plot to show improvement\n",
    "# You can create these in the notebook and save them to PNG or use some other tool (e.g. google sheets, excel)\n",
    "fig = pd.DataFrame(\n",
    "    {\n",
    "        \"model\": [\"initial\", \"add_features\", \"hpo\"],\n",
    "        \"score\": [-53.133772,-30.281212,-33.369648]\n",
    "    }\n",
    ").plot(x=\"model\", y=\"score\", figsize=(8, 6)).get_figure()\n",
    "fig.savefig('model_train_score.png')"
   ]
  },
  {
   "cell_type": "code",
   "execution_count": 53,
   "metadata": {},
   "outputs": [
    {
     "data": {
      "image/png": "[encoded data removed]",
      "text/plain": [
       "<Figure size 800x600 with 1 Axes>"
      ]
     },
     "metadata": {},
     "output_type": "display_data"
    }
   ],
   "source": [
    "# Take the 3 kaggle scores and creating a line plot to show improvement\n",
    "fig = pd.DataFrame(\n",
    "    {\n",
    "        \"test_eval\": [\"initial\", \"add_features\", \"hpo\"],\n",
    "        \"score\": [1.80255, 0.65116, 0.55005]\n",
    "    }\n",
    ").plot(x=\"test_eval\", y=\"score\", figsize=(8, 6)).get_figure()\n",
    "fig.savefig('model_test_score.png')"
   ]
  },
  {
   "cell_type": "markdown",
   "metadata": {},
   "source": [
    "### Hyperparameter table"
   ]
  },
  {
   "cell_type": "code",
   "execution_count": null,
   "metadata": {},
   "outputs": [],
   "source": [
    "# The 3 hyperparameters we tuned with the kaggle score as the result\n",
    "pd.DataFrame({\n",
    "    \"model\": [\"initial\", \"add_features\", \"hpo\"],\n",
    "    \"hpo1\": ['prescribed_values', 'prescribed_values', \"Tree-Based Models: (GBM, XT, XGB, & RF)\"],\n",
    "    \"hpo2\": ['prescribed_values', 'prescribed_values', \"KNN\"],\n",
    "    \"hpo3\": [?, ?, \"presets: 'best_quality\"],\n",
    "    \"score\": [1.80255, 0.65116, 0.55005]\n",
    "})"
   ]
  }
 ],
 "metadata": {
  "availableInstances": [
   {
    "_defaultOrder": 0,
    "_isFastLaunch": true,
    "category": "General purpose",
    "gpuNum": 0,
    "hideHardwareSpecs": false,
    "memoryGiB": 4,
    "name": "ml.t3.medium",
    "vcpuNum": 2
   },
   {
    "_defaultOrder": 1,
    "_isFastLaunch": false,
    "category": "General purpose",
    "gpuNum": 0,
    "hideHardwareSpecs": false,
    "memoryGiB": 8,
    "name": "ml.t3.large",
    "vcpuNum": 2
   },
   {
    "_defaultOrder": 2,
    "_isFastLaunch": false,
    "category": "General purpose",
    "gpuNum": 0,
    "hideHardwareSpecs": false,
    "memoryGiB": 16,
    "name": "ml.t3.xlarge",
    "vcpuNum": 4
   },
   {
    "_defaultOrder": 3,
    "_isFastLaunch": false,
    "category": "General purpose",
    "gpuNum": 0,
    "hideHardwareSpecs": false,
    "memoryGiB": 32,
    "name": "ml.t3.2xlarge",
    "vcpuNum": 8
   },
   {
    "_defaultOrder": 4,
    "_isFastLaunch": true,
    "category": "General purpose",
    "gpuNum": 0,
    "hideHardwareSpecs": false,
    "memoryGiB": 8,
    "name": "ml.m5.large",
    "vcpuNum": 2
   },
   {
    "_defaultOrder": 5,
    "_isFastLaunch": false,
    "category": "General purpose",
    "gpuNum": 0,
    "hideHardwareSpecs": false,
    "memoryGiB": 16,
    "name": "ml.m5.xlarge",
    "vcpuNum": 4
   },
   {
    "_defaultOrder": 6,
    "_isFastLaunch": false,
    "category": "General purpose",
    "gpuNum": 0,
    "hideHardwareSpecs": false,
    "memoryGiB": 32,
    "name": "ml.m5.2xlarge",
    "vcpuNum": 8
   },
   {
    "_defaultOrder": 7,
    "_isFastLaunch": false,
    "category": "General purpose",
    "gpuNum": 0,
    "hideHardwareSpecs": false,
    "memoryGiB": 64,
    "name": "ml.m5.4xlarge",
    "vcpuNum": 16
   },
   {
    "_defaultOrder": 8,
    "_isFastLaunch": false,
    "category": "General purpose",
    "gpuNum": 0,
    "hideHardwareSpecs": false,
    "memoryGiB": 128,
    "name": "ml.m5.8xlarge",
    "vcpuNum": 32
   },
   {
    "_defaultOrder": 9,
    "_isFastLaunch": false,
    "category": "General purpose",
    "gpuNum": 0,
    "hideHardwareSpecs": false,
    "memoryGiB": 192,
    "name": "ml.m5.12xlarge",
    "vcpuNum": 48
   },
   {
    "_defaultOrder": 10,
    "_isFastLaunch": false,
    "category": "General purpose",
    "gpuNum": 0,
    "hideHardwareSpecs": false,
    "memoryGiB": 256,
    "name": "ml.m5.16xlarge",
    "vcpuNum": 64
   },
   {
    "_defaultOrder": 11,
    "_isFastLaunch": false,
    "category": "General purpose",
    "gpuNum": 0,
    "hideHardwareSpecs": false,
    "memoryGiB": 384,
    "name": "ml.m5.24xlarge",
    "vcpuNum": 96
   },
   {
    "_defaultOrder": 12,
    "_isFastLaunch": false,
    "category": "General purpose",
    "gpuNum": 0,
    "hideHardwareSpecs": false,
    "memoryGiB": 8,
    "name": "ml.m5d.large",
    "vcpuNum": 2
   },
   {
    "_defaultOrder": 13,
    "_isFastLaunch": false,
    "category": "General purpose",
    "gpuNum": 0,
    "hideHardwareSpecs": false,
    "memoryGiB": 16,
    "name": "ml.m5d.xlarge",
    "vcpuNum": 4
   },
   {
    "_defaultOrder": 14,
    "_isFastLaunch": false,
    "category": "General purpose",
    "gpuNum": 0,
    "hideHardwareSpecs": false,
    "memoryGiB": 32,
    "name": "ml.m5d.2xlarge",
    "vcpuNum": 8
   },
   {
    "_defaultOrder": 15,
    "_isFastLaunch": false,
    "category": "General purpose",
    "gpuNum": 0,
    "hideHardwareSpecs": false,
    "memoryGiB": 64,
    "name": "ml.m5d.4xlarge",
    "vcpuNum": 16
   },
   {
    "_defaultOrder": 16,
    "_isFastLaunch": false,
    "category": "General purpose",
    "gpuNum": 0,
    "hideHardwareSpecs": false,
    "memoryGiB": 128,
    "name": "ml.m5d.8xlarge",
    "vcpuNum": 32
   },
   {
    "_defaultOrder": 17,
    "_isFastLaunch": false,
    "category": "General purpose",
    "gpuNum": 0,
    "hideHardwareSpecs": false,
    "memoryGiB": 192,
    "name": "ml.m5d.12xlarge",
    "vcpuNum": 48
   },
   {
    "_defaultOrder": 18,
    "_isFastLaunch": false,
    "category": "General purpose",
    "gpuNum": 0,
    "hideHardwareSpecs": false,
    "memoryGiB": 256,
    "name": "ml.m5d.16xlarge",
    "vcpuNum": 64
   },
   {
    "_defaultOrder": 19,
    "_isFastLaunch": false,
    "category": "General purpose",
    "gpuNum": 0,
    "hideHardwareSpecs": false,
    "memoryGiB": 384,
    "name": "ml.m5d.24xlarge",
    "vcpuNum": 96
   },
   {
    "_defaultOrder": 20,
    "_isFastLaunch": false,
    "category": "General purpose",
    "gpuNum": 0,
    "hideHardwareSpecs": true,
    "memoryGiB": 0,
    "name": "ml.geospatial.interactive",
    "supportedImageNames": [
     "sagemaker-geospatial-v1-0"
    ],
    "vcpuNum": 0
   },
   {
    "_defaultOrder": 21,
    "_isFastLaunch": true,
    "category": "Compute optimized",
    "gpuNum": 0,
    "hideHardwareSpecs": false,
    "memoryGiB": 4,
    "name": "ml.c5.large",
    "vcpuNum": 2
   },
   {
    "_defaultOrder": 22,
    "_isFastLaunch": false,
    "category": "Compute optimized",
    "gpuNum": 0,
    "hideHardwareSpecs": false,
    "memoryGiB": 8,
    "name": "ml.c5.xlarge",
    "vcpuNum": 4
   },
   {
    "_defaultOrder": 23,
    "_isFastLaunch": false,
    "category": "Compute optimized",
    "gpuNum": 0,
    "hideHardwareSpecs": false,
    "memoryGiB": 16,
    "name": "ml.c5.2xlarge",
    "vcpuNum": 8
   },
   {
    "_defaultOrder": 24,
    "_isFastLaunch": false,
    "category": "Compute optimized",
    "gpuNum": 0,
    "hideHardwareSpecs": false,
    "memoryGiB": 32,
    "name": "ml.c5.4xlarge",
    "vcpuNum": 16
   },
   {
    "_defaultOrder": 25,
    "_isFastLaunch": false,
    "category": "Compute optimized",
    "gpuNum": 0,
    "hideHardwareSpecs": false,
    "memoryGiB": 72,
    "name": "ml.c5.9xlarge",
    "vcpuNum": 36
   },
   {
    "_defaultOrder": 26,
    "_isFastLaunch": false,
    "category": "Compute optimized",
    "gpuNum": 0,
    "hideHardwareSpecs": false,
    "memoryGiB": 96,
    "name": "ml.c5.12xlarge",
    "vcpuNum": 48
   },
   {
    "_defaultOrder": 27,
    "_isFastLaunch": false,
    "category": "Compute optimized",
    "gpuNum": 0,
    "hideHardwareSpecs": false,
    "memoryGiB": 144,
    "name": "ml.c5.18xlarge",
    "vcpuNum": 72
   },
   {
    "_defaultOrder": 28,
    "_isFastLaunch": false,
    "category": "Compute optimized",
    "gpuNum": 0,
    "hideHardwareSpecs": false,
    "memoryGiB": 192,
    "name": "ml.c5.24xlarge",
    "vcpuNum": 96
   },
   {
    "_defaultOrder": 29,
    "_isFastLaunch": true,
    "category": "Accelerated computing",
    "gpuNum": 1,
    "hideHardwareSpecs": false,
    "memoryGiB": 16,
    "name": "ml.g4dn.xlarge",
    "vcpuNum": 4
   },
   {
    "_defaultOrder": 30,
    "_isFastLaunch": false,
    "category": "Accelerated computing",
    "gpuNum": 1,
    "hideHardwareSpecs": false,
    "memoryGiB": 32,
    "name": "ml.g4dn.2xlarge",
    "vcpuNum": 8
   },
   {
    "_defaultOrder": 31,
    "_isFastLaunch": false,
    "category": "Accelerated computing",
    "gpuNum": 1,
    "hideHardwareSpecs": false,
    "memoryGiB": 64,
    "name": "ml.g4dn.4xlarge",
    "vcpuNum": 16
   },
   {
    "_defaultOrder": 32,
    "_isFastLaunch": false,
    "category": "Accelerated computing",
    "gpuNum": 1,
    "hideHardwareSpecs": false,
    "memoryGiB": 128,
    "name": "ml.g4dn.8xlarge",
    "vcpuNum": 32
   },
   {
    "_defaultOrder": 33,
    "_isFastLaunch": false,
    "category": "Accelerated computing",
    "gpuNum": 4,
    "hideHardwareSpecs": false,
    "memoryGiB": 192,
    "name": "ml.g4dn.12xlarge",
    "vcpuNum": 48
   },
   {
    "_defaultOrder": 34,
    "_isFastLaunch": false,
    "category": "Accelerated computing",
    "gpuNum": 1,
    "hideHardwareSpecs": false,
    "memoryGiB": 256,
    "name": "ml.g4dn.16xlarge",
    "vcpuNum": 64
   },
   {
    "_defaultOrder": 35,
    "_isFastLaunch": false,
    "category": "Accelerated computing",
    "gpuNum": 1,
    "hideHardwareSpecs": false,
    "memoryGiB": 61,
    "name": "ml.p3.2xlarge",
    "vcpuNum": 8
   },
   {
    "_defaultOrder": 36,
    "_isFastLaunch": false,
    "category": "Accelerated computing",
    "gpuNum": 4,
    "hideHardwareSpecs": false,
    "memoryGiB": 244,
    "name": "ml.p3.8xlarge",
    "vcpuNum": 32
   },
   {
    "_defaultOrder": 37,
    "_isFastLaunch": false,
    "category": "Accelerated computing",
    "gpuNum": 8,
    "hideHardwareSpecs": false,
    "memoryGiB": 488,
    "name": "ml.p3.16xlarge",
    "vcpuNum": 64
   },
   {
    "_defaultOrder": 38,
    "_isFastLaunch": false,
    "category": "Accelerated computing",
    "gpuNum": 8,
    "hideHardwareSpecs": false,
    "memoryGiB": 768,
    "name": "ml.p3dn.24xlarge",
    "vcpuNum": 96
   },
   {
    "_defaultOrder": 39,
    "_isFastLaunch": false,
    "category": "Memory Optimized",
    "gpuNum": 0,
    "hideHardwareSpecs": false,
    "memoryGiB": 16,
    "name": "ml.r5.large",
    "vcpuNum": 2
   },
   {
    "_defaultOrder": 40,
    "_isFastLaunch": false,
    "category": "Memory Optimized",
    "gpuNum": 0,
    "hideHardwareSpecs": false,
    "memoryGiB": 32,
    "name": "ml.r5.xlarge",
    "vcpuNum": 4
   },
   {
    "_defaultOrder": 41,
    "_isFastLaunch": false,
    "category": "Memory Optimized",
    "gpuNum": 0,
    "hideHardwareSpecs": false,
    "memoryGiB": 64,
    "name": "ml.r5.2xlarge",
    "vcpuNum": 8
   },
   {
    "_defaultOrder": 42,
    "_isFastLaunch": false,
    "category": "Memory Optimized",
    "gpuNum": 0,
    "hideHardwareSpecs": false,
    "memoryGiB": 128,
    "name": "ml.r5.4xlarge",
    "vcpuNum": 16
   },
   {
    "_defaultOrder": 43,
    "_isFastLaunch": false,
    "category": "Memory Optimized",
    "gpuNum": 0,
    "hideHardwareSpecs": false,
    "memoryGiB": 256,
    "name": "ml.r5.8xlarge",
    "vcpuNum": 32
   },
   {
    "_defaultOrder": 44,
    "_isFastLaunch": false,
    "category": "Memory Optimized",
    "gpuNum": 0,
    "hideHardwareSpecs": false,
    "memoryGiB": 384,
    "name": "ml.r5.12xlarge",
    "vcpuNum": 48
   },
   {
    "_defaultOrder": 45,
    "_isFastLaunch": false,
    "category": "Memory Optimized",
    "gpuNum": 0,
    "hideHardwareSpecs": false,
    "memoryGiB": 512,
    "name": "ml.r5.16xlarge",
    "vcpuNum": 64
   },
   {
    "_defaultOrder": 46,
    "_isFastLaunch": false,
    "category": "Memory Optimized",
    "gpuNum": 0,
    "hideHardwareSpecs": false,
    "memoryGiB": 768,
    "name": "ml.r5.24xlarge",
    "vcpuNum": 96
   },
   {
    "_defaultOrder": 47,
    "_isFastLaunch": false,
    "category": "Accelerated computing",
    "gpuNum": 1,
    "hideHardwareSpecs": false,
    "memoryGiB": 16,
    "name": "ml.g5.xlarge",
    "vcpuNum": 4
   },
   {
    "_defaultOrder": 48,
    "_isFastLaunch": false,
    "category": "Accelerated computing",
    "gpuNum": 1,
    "hideHardwareSpecs": false,
    "memoryGiB": 32,
    "name": "ml.g5.2xlarge",
    "vcpuNum": 8
   },
   {
    "_defaultOrder": 49,
    "_isFastLaunch": false,
    "category": "Accelerated computing",
    "gpuNum": 1,
    "hideHardwareSpecs": false,
    "memoryGiB": 64,
    "name": "ml.g5.4xlarge",
    "vcpuNum": 16
   },
   {
    "_defaultOrder": 50,
    "_isFastLaunch": false,
    "category": "Accelerated computing",
    "gpuNum": 1,
    "hideHardwareSpecs": false,
    "memoryGiB": 128,
    "name": "ml.g5.8xlarge",
    "vcpuNum": 32
   },
   {
    "_defaultOrder": 51,
    "_isFastLaunch": false,
    "category": "Accelerated computing",
    "gpuNum": 1,
    "hideHardwareSpecs": false,
    "memoryGiB": 256,
    "name": "ml.g5.16xlarge",
    "vcpuNum": 64
   },
   {
    "_defaultOrder": 52,
    "_isFastLaunch": false,
    "category": "Accelerated computing",
    "gpuNum": 4,
    "hideHardwareSpecs": false,
    "memoryGiB": 192,
    "name": "ml.g5.12xlarge",
    "vcpuNum": 48
   },
   {
    "_defaultOrder": 53,
    "_isFastLaunch": false,
    "category": "Accelerated computing",
    "gpuNum": 4,
    "hideHardwareSpecs": false,
    "memoryGiB": 384,
    "name": "ml.g5.24xlarge",
    "vcpuNum": 96
   },
   {
    "_defaultOrder": 54,
    "_isFastLaunch": false,
    "category": "Accelerated computing",
    "gpuNum": 8,
    "hideHardwareSpecs": false,
    "memoryGiB": 768,
    "name": "ml.g5.48xlarge",
    "vcpuNum": 192
   },
   {
    "_defaultOrder": 55,
    "_isFastLaunch": false,
    "category": "Accelerated computing",
    "gpuNum": 8,
    "hideHardwareSpecs": false,
    "memoryGiB": 1152,
    "name": "ml.p4d.24xlarge",
    "vcpuNum": 96
   },
   {
    "_defaultOrder": 56,
    "_isFastLaunch": false,
    "category": "Accelerated computing",
    "gpuNum": 8,
    "hideHardwareSpecs": false,
    "memoryGiB": 1152,
    "name": "ml.p4de.24xlarge",
    "vcpuNum": 96
   },
   {
    "_defaultOrder": 57,
    "_isFastLaunch": false,
    "category": "Accelerated computing",
    "gpuNum": 0,
    "hideHardwareSpecs": false,
    "memoryGiB": 32,
    "name": "ml.trn1.2xlarge",
    "vcpuNum": 8
   },
   {
    "_defaultOrder": 58,
    "_isFastLaunch": false,
    "category": "Accelerated computing",
    "gpuNum": 0,
    "hideHardwareSpecs": false,
    "memoryGiB": 512,
    "name": "ml.trn1.32xlarge",
    "vcpuNum": 128
   },
   {
    "_defaultOrder": 59,
    "_isFastLaunch": false,
    "category": "Accelerated computing",
    "gpuNum": 0,
    "hideHardwareSpecs": false,
    "memoryGiB": 512,
    "name": "ml.trn1n.32xlarge",
    "vcpuNum": 128
   }
  ],
  "instance_type": "ml.t3.medium",
  "kernelspec": {
   "display_name": "Python 3 (Data Science 3.0)",
   "language": "python",
   "name": "python3__SAGEMAKER_INTERNAL__arn:aws:sagemaker:us-east-1:081325390199:image/sagemaker-data-science-310-v1"
  },
  "language_info": {
   "codemirror_mode": {
    "name": "ipython",
    "version": 3
   },
   "file_extension": ".py",
   "mimetype": "text/x-python",
   "name": "python",
   "nbconvert_exporter": "python",
   "pygments_lexer": "ipython3",
   "version": "3.10.6"
  }
 },
 "nbformat": 4,
 "nbformat_minor": 4
}
